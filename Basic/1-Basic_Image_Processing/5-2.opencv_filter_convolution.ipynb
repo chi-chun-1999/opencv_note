{
 "cells": [
  {
   "cell_type": "markdown",
   "metadata": {},
   "source": [
    "# 基本影像過濾器 - 卷積運算\n",
    "---"
   ]
  },
  {
   "cell_type": "markdown",
   "metadata": {},
   "source": [
    "### 第一步、載入Python套件"
   ]
  },
  {
   "cell_type": "code",
   "execution_count": 11,
   "metadata": {},
   "outputs": [],
   "source": [
    "# 載入套件\n",
    "import numpy as np\n",
    "import cv2 as cv"
   ]
  },
  {
   "cell_type": "markdown",
   "metadata": {},
   "source": [
    "### 第二步、讀取資料夾中的影像，這裡以Lenna.png為例"
   ]
  },
  {
   "cell_type": "code",
   "execution_count": 12,
   "metadata": {},
   "outputs": [],
   "source": [
    "# 從圖檔讀取影像像素值矩陣\n",
    "# 函式輸出入 => 影像像素值矩陣 = cv.imread(圖片路徑)\n",
    "img = cv.imread('./img/Lenna.png')"
   ]
  },
  {
   "cell_type": "markdown",
   "metadata": {},
   "source": [
    "### 第三步、自定義卷積運算之核函數\n",
    "此範例為平滑化與銳利化核函數定義方式，自定義可嘗試不同尺寸與數值"
   ]
  },
  {
   "cell_type": "code",
   "execution_count": 13,
   "metadata": {},
   "outputs": [
    {
     "name": "stdout",
     "output_type": "stream",
     "text": [
      "Kernel smoothed: \n",
      " [[0.04 0.04 0.04 0.04 0.04]\n",
      " [0.04 0.04 0.04 0.04 0.04]\n",
      " [0.04 0.04 0.04 0.04 0.04]\n",
      " [0.04 0.04 0.04 0.04 0.04]\n",
      " [0.04 0.04 0.04 0.04 0.04]]\n",
      "Kernel sharpened: \n",
      " [[ 0 -1  0]\n",
      " [-1  4 -1]\n",
      " [ 0 -1  0]]\n"
     ]
    }
   ],
   "source": [
    "# 定義平滑化核函數，格式必須使用numpy二維陣列\n",
    "kernel_smoothed = np.array([[0.04, 0.04, 0.04, 0.04, 0.04],\n",
    "                            [0.04, 0.04, 0.04, 0.04, 0.04],\n",
    "                            [0.04, 0.04, 0.04, 0.04, 0.04],\n",
    "                            [0.04, 0.04, 0.04, 0.04, 0.04],\n",
    "                            [0.04, 0.04, 0.04, 0.04, 0.04]])\n",
    "\n",
    "# 定義銳利化核函數，格式必須使用numpy二維陣列\n",
    "kernel_sharpened = np.array([[ 0, -1,  0],\n",
    "                             [-1,  4, -1],\n",
    "                             [ 0, -1,  0]])\n",
    "\n",
    "# 顯示核函數內容二維陣列\n",
    "print(\"Kernel smoothed: \\n\", kernel_smoothed)\n",
    "print(\"Kernel sharpened: \\n\", kernel_sharpened)"
   ]
  },
  {
   "cell_type": "markdown",
   "metadata": {},
   "source": [
    "### 第四步、依據自定義核函數進行卷積運算"
   ]
  },
  {
   "cell_type": "code",
   "execution_count": 14,
   "metadata": {},
   "outputs": [],
   "source": [
    "# 將原圖進行平滑化卷積運算\n",
    "# 函式輸出入 => 輸出影像 = cv.inRange(輸入影像, 輸出影像格式, 核函數)\n",
    "img_smoothed=cv.filter2D(img, ddepth=cv.CV_8U,kernel=kernel_smoothed)\n",
    "\n",
    "# 將原圖進行銳利化卷積運算\n",
    "# 函式輸出入 => 輸出影像 = cv.inRange(輸入影像, 輸出影像格式, 核函數)\n",
    "img_sharpened=cv.filter2D(img, ddepth=cv.CV_8U,kernel=kernel_sharpened)"
   ]
  },
  {
   "cell_type": "markdown",
   "metadata": {},
   "source": [
    "### 第五步、開啟視窗並將影像顯示出來，按任意鍵將視窗關閉"
   ]
  },
  {
   "cell_type": "code",
   "execution_count": 15,
   "metadata": {},
   "outputs": [],
   "source": [
    "# 顯示原始影像與二值化影像\n",
    "# 函式輸出入 => cv.imshow(視窗名稱, 影像矩陣)\n",
    "cv.imshow(\"Original Lenna\", img)\n",
    "cv.imshow(\"Smoothed Lenna\", img_smoothed)\n",
    "cv.imshow(\"Sharpened Lenna\", img_sharpened)\n",
    "\n",
    "# 暫停程式並在按下任意鍵後結束暫停\n",
    "# 函式輸出入 => 按鍵字元編碼 = cv.waitKey(停等時間單位毫秒)\n",
    "cv.waitKey(0)\n",
    "\n",
    "# 關閉所有OpenCV的視窗\n",
    "# 函式輸出入 => cv.destroyAllWindows()\n",
    "cv.destroyAllWindows()"
   ]
  },
  {
   "cell_type": "code",
   "execution_count": null,
   "metadata": {},
   "outputs": [],
   "source": []
  }
 ],
 "metadata": {
  "kernelspec": {
   "display_name": "Python 3",
   "language": "python",
   "name": "python3"
  },
  "language_info": {
   "codemirror_mode": {
    "name": "ipython",
    "version": 3
   },
   "file_extension": ".py",
   "mimetype": "text/x-python",
   "name": "python",
   "nbconvert_exporter": "python",
   "pygments_lexer": "ipython3",
   "version": "3.8.10"
  }
 },
 "nbformat": 4,
 "nbformat_minor": 4
}
