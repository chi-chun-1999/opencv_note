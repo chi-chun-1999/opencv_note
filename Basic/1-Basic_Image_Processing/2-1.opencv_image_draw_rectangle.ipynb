{
 "cells": [
  {
   "cell_type": "markdown",
   "metadata": {},
   "source": [
    "# 基本影像繪圖- 直線、矩形\n",
    "---"
   ]
  },
  {
   "cell_type": "markdown",
   "metadata": {},
   "source": [
    "### 第一步、載入Python套件"
   ]
  },
  {
   "cell_type": "code",
   "execution_count": null,
   "metadata": {},
   "outputs": [],
   "source": [
    "# 載入套件\n",
    "import numpy as np\n",
    "import cv2 as cv"
   ]
  },
  {
   "cell_type": "markdown",
   "metadata": {},
   "source": [
    "### 第二步、創建一全黑的影像來作畫（或可以使用Lenna作畫）\n",
    "<img src=\"img/attachment/Draw_empty.png\" alt=\"Draw_empty\" align=\"left\">"
   ]
  },
  {
   "cell_type": "code",
   "execution_count": null,
   "metadata": {},
   "outputs": [],
   "source": [
    "# 建立一張256x256的 RGB 圖片\n",
    "# 函式輸出入 => 影像像素值矩陣 = np.zeros((高, 寬, 通道), 像素的資料型態)\n",
    "img = np.zeros((256, 256, 3), np.uint8)"
   ]
  },
  {
   "cell_type": "markdown",
   "metadata": {},
   "source": [
    "### 第三步、在影像上分別畫上直線、矩形"
   ]
  },
  {
   "cell_type": "code",
   "execution_count": null,
   "metadata": {},
   "outputs": [],
   "source": [
    "# 在影像上畫一直線\n",
    "# 函式輸出入 => 輸出影像 = cv.rectangle（輸入同輸出影像, 直線起點座標, 直線終點座標, 顏色, 線條寬度（-1為填滿））\n",
    "img = cv.line(img, (20, 60), (120, 160), (255, 0, 0), 2)\n",
    "\n",
    "# 在影像上畫一矩形\n",
    "# 函式輸出入 => 輸出影像 = cv.rectangle（輸入同輸出影像, 矩形左上角座標, 矩形右下角座標, 顏色, 線條寬度（-1為填滿））\n",
    "img = cv.rectangle(img, (20, 60), (120, 160), (0, 255, 0), 2)"
   ]
  },
  {
   "cell_type": "markdown",
   "metadata": {},
   "source": [
    "### 第四步、開啟視窗並將影像顯示出來，按任意鍵將視窗關閉\n",
    "<img src=\"img/attachment/Draw_rect.png\" alt=\"Draw_rect\" align=\"left\">"
   ]
  },
  {
   "cell_type": "code",
   "execution_count": null,
   "metadata": {},
   "outputs": [],
   "source": [
    "# 顯示繪圖影像\n",
    "cv.imshow('Draw line/rectangle', img)\n",
    "\n",
    "# 暫停程式並在按下任意鍵後結束暫停\n",
    "# 函式輸出入 => 按鍵字元編碼 = cv.waitKey(停等時間單位毫秒)\n",
    "cv.waitKey(0)\n",
    "\n",
    "# 關閉所有OpenCV的視窗\n",
    "# 函式輸出入 => cv.destroyAllWindows()\n",
    "cv.destroyAllWindows()"
   ]
  },
  {
   "cell_type": "code",
   "execution_count": null,
   "metadata": {},
   "outputs": [],
   "source": []
  }
 ],
 "metadata": {
  "kernelspec": {
   "display_name": "Python 3",
   "language": "python",
   "name": "python3"
  },
  "language_info": {
   "codemirror_mode": {
    "name": "ipython",
    "version": 3
   },
   "file_extension": ".py",
   "mimetype": "text/x-python",
   "name": "python",
   "nbconvert_exporter": "python",
   "pygments_lexer": "ipython3",
   "version": "3.8.10"
  }
 },
 "nbformat": 4,
 "nbformat_minor": 2
}
