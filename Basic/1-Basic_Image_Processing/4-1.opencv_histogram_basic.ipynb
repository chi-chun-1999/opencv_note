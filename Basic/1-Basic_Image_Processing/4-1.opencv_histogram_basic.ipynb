{
 "cells": [
  {
   "cell_type": "markdown",
   "metadata": {},
   "source": [
    "# Opencv-Histogram\n",
    "---\n",
    "再分析影像、物體與影片資訊的過程中，我們經常需要將看見的東西顯示為__直方圖__。直方圖可以將各式各樣的東西表示成物體的顏色分布、物體的邊緣梯度模板，或代表我們對於目前物件位置所做的機率分布假設。在python中，我們可以善加利用matplotlib這個套件幫我們畫Opencv所輸出的直方圖\n"
   ]
  },
  {
   "cell_type": "code",
   "execution_count": 1,
   "metadata": {},
   "outputs": [],
   "source": [
    "import cv2 as cv\n",
    "import numpy as np\n",
    "import matplotlib.pyplot as plt"
   ]
  },
  {
   "cell_type": "markdown",
   "metadata": {},
   "source": [
    "### 定義showHist函式，在matplotlib上show<span style=\"color:red\">圖表</span>"
   ]
  },
  {
   "cell_type": "code",
   "execution_count": null,
   "metadata": {},
   "outputs": [],
   "source": [
    "#定義showHist函式，可以用matplotlib來show圖表\n",
    "#showHist(hist,title_name,x_label='Bins',y_label='# of Pixels',sub_row=1,sub_col=1,sub_num=1)\n",
    "#hist:要show的圖表\n",
    "#tiltle_name:圖表的標題\n",
    "#x_label:x軸的標題\n",
    "#x_label:y軸的標題\n",
    "#sub_row:對應到 plt.subplot中的 row參數，預設為 1\n",
    "#sub_col:對應到 plt.subplot中的 col參數，預設為 1\n",
    "#sub_num:對應到 plt.subplot中的 plotNum參數，預設為 1\n",
    "#y_limit:為x軸最大值，預設為 None。\n",
    "\n",
    "def showHist(hist,title_name=\"\",x_label='Bins',y_label='# of Pixels',sub_row=1,sub_col=1,sub_num=1,y_limit=None):\n",
    "    plt.subplot(sub_row,sub_col,sub_num)\n",
    "    #hist[255]=0\n",
    "    plt.plot(hist)\n",
    "    #plt.ylim([0, 2500])\n",
    "    plt.xlabel(x_label)\n",
    "    plt.ylabel(y_label)\n",
    "    plt.title(title_name)\n",
    "    plt.xlim([0, len(hist)])\n",
    "    if y_limit!=None:\n",
    "        plt.ylim([0, y_limit])\n"
   ]
  },
  {
   "cell_type": "markdown",
   "metadata": {},
   "source": [
    "### 定義showImage函式，在matplotlib來show<span style=\"color:red\">圖</span>"
   ]
  },
  {
   "cell_type": "code",
   "execution_count": null,
   "metadata": {},
   "outputs": [],
   "source": [
    "#定義showImage函式，可以用matplotlib來show圖\n",
    "#showImage(image,title_name,sub_row=1,sub_col=1,sub_num=1)\n",
    "#image:要show的圖\n",
    "#tiltle_name:圖的標題\n",
    "#sub_row:對應到 plt.subplot中的 row參數，預設為 1\n",
    "#sub_col:對應到 plt.subplot中的 col參數，預設為 1\n",
    "#sub_num:對應到 plt.subplot中的 plotNum參數，預設為 1\n",
    "\n",
    "def showImage(image,title_name=\"\",sub_row=1,sub_col=1,sub_num=1):\n",
    "    '''\n",
    "    在jupyter中使用matplotlib直接顯示圖片在記事本中\n",
    "    ''' \n",
    "    plt.subplot(sub_row,sub_col,sub_num)  \n",
    "    plt.title(title_name)\n",
    "    \n",
    "\n",
    "    # OpenCV的彩色影像 需轉成RGB順序\n",
    "    if len(image.shape) == 3 and image.shape[2] == 3:\n",
    "        image = cv.cvtColor(image, cv.COLOR_BGR2RGB)\n",
    "        plt.axis('off') \n",
    "        plt.imshow(image)\n",
    "    # OpenCV的灰階影像 需要特別調整 plt.imshow 的參數\n",
    "    if len(image.shape) == 2:\n",
    "        plt.axis('off') \n",
    "        plt.imshow(image, cmap=plt.cm.gray, vmin=0, vmax=255)\n",
    "    \n",
    "    # OpenCV的透明像素點的彩色影像 需轉成RGB順序\n",
    "    if len(image.shape) == 3 and image.shape[2] == 4:\n",
    "        image = cv.cvtColor(image, cv.COLOR_BGRA2RGB)\n",
    "        plt.axis('off') \n",
    "        plt.imshow(image)\n"
   ]
  },
  {
   "cell_type": "markdown",
   "metadata": {},
   "source": [
    "# 灰階圖的直方圖\n",
    "---\n",
    "## __1.__ 首先先將`./img`裡的lenna"
   ]
  },
  {
   "cell_type": "code",
   "execution_count": null,
   "metadata": {},
   "outputs": [],
   "source": [
    "ori_img=cv.imread(\"./img/Lenna.png\")\n",
    "gray_img = cv.cvtColor(ori_img, cv.COLOR_BGR2GRAY)\n",
    "plt.imshow()"
   ]
  },
  {
   "cell_type": "markdown",
   "metadata": {},
   "source": [
    "## __2.__ 在將LBP與灰階圖做直方圖\n",
    "利用OpenCV的`cv.calcHist`的函式可以將輸入的圖做成直方圖"
   ]
  },
  {
   "cell_type": "code",
   "execution_count": null,
   "metadata": {},
   "outputs": [],
   "source": [
    "#hist=cv.calcHist([img_src],[channel_num],mask,[hist_size],[ranges])\n",
    "#hist:輸出的直方圖\n",
    "#[img_src]:輸入的影像，需要注意的是必須將它塞進括號中 [img_src]\n",
    "#[channel_num]:表示第幾個通道，可以是0、1或2。灰階影像通道指定為[0]，彩色影像的話為[0]、[1]和[2]分別代表藍、綠和紅\n",
    "#mask:可以指定遮罩區域，本範例沒有使用所以為 None。(之後lbp單元會有相關範例)\n",
    "#[hist_size]:指定直方圖分隔區間的數量（bins），也就是圖形畫出來要有幾條長方形。\n",
    "#[ranges]:指定要計算的像素值範圍，通常都是設為 [0,256]（計算所有的像素值）\n",
    "gray_hist = cv.calcHist([gray_img], [0], None, [256], [0, 256])"
   ]
  },
  {
   "cell_type": "markdown",
   "metadata": {},
   "source": [
    "## __3.__ 最後利用上面自訂義的函式將圖跟直方圖show出來\n"
   ]
  },
  {
   "cell_type": "code",
   "execution_count": null,
   "metadata": {},
   "outputs": [],
   "source": [
    "plt.figure(figsize=(20,10))\n",
    "\n",
    "showImage(ori_img,'ori img',sub_row=2,sub_col=2,sub_num=1)\n",
    "showImage(gray_img,'gray img',sub_row=2,sub_col=2,sub_num=3)\n",
    "showHist(gray_hist,'gray hist',sub_row=2,sub_col=2,sub_num=4)"
   ]
  },
  {
   "cell_type": "markdown",
   "metadata": {},
   "source": [
    "# 原圖三通道的直方圖\n",
    "\n",
    "## 分別針對b:0, g:1, r:2代入`cv.calcHist`做直方圖"
   ]
  },
  {
   "cell_type": "code",
   "execution_count": null,
   "metadata": {},
   "outputs": [],
   "source": [
    "blue_hist = cv.calcHist([ori_img], [0], None, [256], [0, 256])\n",
    "green_hist = cv.calcHist([ori_img], [1], None, [256], [0, 256])\n",
    "red_hist = cv.calcHist([ori_img], [2], None, [256], [0, 256])"
   ]
  },
  {
   "cell_type": "code",
   "execution_count": null,
   "metadata": {},
   "outputs": [],
   "source": [
    "plt.figure(figsize=(20,10))\n",
    "\n",
    "plt.plot(blue_hist, color='b', label='b channel',linewidth=2)\n",
    "plt.plot(green_hist, color='g', label='green channel',linewidth=2)\n",
    "plt.plot(red_hist, color='r', label='red channel',linewidth=2)\n",
    "\n",
    "plt.xlabel('Bins')\n",
    "plt.ylabel('# of Pixels')\n",
    "plt.legend()\n",
    "plt.title('all histogram comparison')\n",
    "plt.show()"
   ]
  },
  {
   "cell_type": "code",
   "execution_count": null,
   "metadata": {},
   "outputs": [],
   "source": []
  }
 ],
 "metadata": {
  "kernelspec": {
   "display_name": "Python 3",
   "language": "python",
   "name": "python3"
  },
  "language_info": {
   "codemirror_mode": {
    "name": "ipython",
    "version": 3
   },
   "file_extension": ".py",
   "mimetype": "text/x-python",
   "name": "python",
   "nbconvert_exporter": "python",
   "pygments_lexer": "ipython3",
   "version": "3.8.10"
  }
 },
 "nbformat": 4,
 "nbformat_minor": 4
}
