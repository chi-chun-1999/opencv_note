{
 "cells": [
  {
   "cell_type": "markdown",
   "metadata": {},
   "source": [
    "# 基本影像處理 - 影像旋轉\n",
    "---"
   ]
  },
  {
   "cell_type": "markdown",
   "metadata": {},
   "source": [
    "### 第一步、載入Python套件"
   ]
  },
  {
   "cell_type": "code",
   "execution_count": 1,
   "metadata": {},
   "outputs": [],
   "source": [
    "# 載入套件\n",
    "import numpy as np\n",
    "import cv2 as cv"
   ]
  },
  {
   "cell_type": "markdown",
   "metadata": {},
   "source": [
    "### 第二步、讀取資料夾中的影像，這裡以Lenna.png為例"
   ]
  },
  {
   "cell_type": "code",
   "execution_count": 2,
   "metadata": {},
   "outputs": [],
   "source": [
    "# 從圖檔讀取影像像素值矩陣\n",
    "# 函式輸出入 => 影像像素值矩陣 = cv.imread(圖片路徑)\n",
    "img = cv.imread('./img/Lenna.png')"
   ]
  },
  {
   "cell_type": "markdown",
   "metadata": {},
   "source": [
    "### 第三步、定義旋轉矩陣\n",
    "**在範例中將Lenna圖片旋轉30度**"
   ]
  },
  {
   "cell_type": "code",
   "execution_count": 3,
   "metadata": {},
   "outputs": [
    {
     "name": "stdout",
     "output_type": "stream",
     "text": [
      "[[  0.8660254   -0.5        162.29749663]\n",
      " [  0.5          0.8660254  -93.70250337]]\n"
     ]
    }
   ],
   "source": [
    "# 原始影像尺寸(寬, 高)與中心點(寬, 高)\n",
    "size = (img.shape[1], img.shape[0])\n",
    "center = (img.shape[1] / 2, img.shape[0] / 2)\n",
    "\n",
    "# 獲取OpenCV旋轉矩陣格式\n",
    "# 函式輸出入 => 旋轉矩陣 = cv.getRotationMatrix2D(旋轉中心點, 旋轉角度, 縮放比例)\n",
    "# 旋轉角度：逆時針為正，逆時針為負\n",
    "rotation_matrix = cv.getRotationMatrix2D(center, -30, 1)\n",
    "\n",
    "# 顯示選轉矩陣\n",
    "print(rotation_matrix)"
   ]
  },
  {
   "cell_type": "markdown",
   "metadata": {},
   "source": [
    "### 第四步、將影像進行旋轉\n",
    "**在範例中將Lenna圖片旋轉30度**"
   ]
  },
  {
   "cell_type": "code",
   "execution_count": 4,
   "metadata": {},
   "outputs": [],
   "source": [
    "# 依據旋轉矩陣將影像旋轉\n",
    "# 函式輸出入 => 輸出影像 = cv.warpAffine(輸入影像, 旋轉矩陣, 輸出影像尺寸)\n",
    "img_rotated = cv.warpAffine(img, rotation_matrix, size)"
   ]
  },
  {
   "cell_type": "markdown",
   "metadata": {},
   "source": [
    "### 第五步、開啟視窗並將影像顯示出來，按任意鍵將視窗關閉\n",
    "<img src=\"img/attachment/Lenna_rotated_cmb.png\" alt=\"Lenna_rotated\" align=\"left\" width=\"80%\">"
   ]
  },
  {
   "cell_type": "code",
   "execution_count": 5,
   "metadata": {},
   "outputs": [],
   "source": [
    "# 顯示原始影像與旋轉影像\n",
    "# 函式輸出入 => cv.imshow(視窗名稱, 影像矩陣)\n",
    "cv.imshow('Original Lenna', img)\n",
    "cv.imshow('Rotated Lenna', img_rotated)\n",
    "\n",
    "# 暫停程式並在按下任意鍵後結束暫停\n",
    "# 函式輸出入 => 按鍵字元編碼 = cv.waitKey(停等時間單位毫秒)\n",
    "cv.waitKey(0)\n",
    "\n",
    "# 關閉所有OpenCV的視窗\n",
    "# 函式輸出入 => cv.destroyAllWindows()\n",
    "cv.destroyAllWindows()"
   ]
  },
  {
   "cell_type": "code",
   "execution_count": null,
   "metadata": {},
   "outputs": [],
   "source": []
  }
 ],
 "metadata": {
  "kernelspec": {
   "display_name": "Python 3",
   "language": "python",
   "name": "python3"
  },
  "language_info": {
   "codemirror_mode": {
    "name": "ipython",
    "version": 3
   },
   "file_extension": ".py",
   "mimetype": "text/x-python",
   "name": "python",
   "nbconvert_exporter": "python",
   "pygments_lexer": "ipython3",
   "version": "3.8.10"
  }
 },
 "nbformat": 4,
 "nbformat_minor": 2
}
