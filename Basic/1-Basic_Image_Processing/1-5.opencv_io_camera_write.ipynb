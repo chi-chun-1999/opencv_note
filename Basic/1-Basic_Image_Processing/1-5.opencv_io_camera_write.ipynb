{
 "cells": [
  {
   "cell_type": "markdown",
   "metadata": {},
   "source": [
    "# 基本攝影機處理 - 攝影機影像儲存成影片\n",
    "---"
   ]
  },
  {
   "cell_type": "markdown",
   "metadata": {},
   "source": [
    "### 第一步、載入Python套件"
   ]
  },
  {
   "cell_type": "code",
   "execution_count": 29,
   "metadata": {},
   "outputs": [],
   "source": [
    "# 載入套件\n",
    "import numpy as np\n",
    "import cv2 as cv"
   ]
  },
  {
   "cell_type": "markdown",
   "metadata": {},
   "source": [
    "### 第二步、開啟攝影機\n",
    "**<font color = red>請注意! 需先確認Google Meet的攝影機是否已先關閉</font>**"
   ]
  },
  {
   "cell_type": "code",
   "execution_count": 30,
   "metadata": {},
   "outputs": [],
   "source": [
    "# 開啟攝影機\n",
    "# 函式輸出入 => 攝影機 = cv.VideoCapture(攝影機編號)\n",
    "cap = cv.VideoCapture(0)"
   ]
  },
  {
   "cell_type": "markdown",
   "metadata": {},
   "source": [
    "### 第三步、設定儲存影片路徑、格式"
   ]
  },
  {
   "cell_type": "code",
   "execution_count": 35,
   "metadata": {},
   "outputs": [],
   "source": [
    "# 影片檔案格式使用 MP4V 編碼\n",
    "# 函式輸出入 => 影片檔案格式 = cv.VideoWriter_fourcc(檔案格式編碼)\n",
    "fourcc = cv.VideoWriter_fourcc(*'MP4V')\n",
    "\n",
    "# 影片檔案路徑為 output.avi，並設定FPS.值為15, 解析度為640x480\n",
    "# 函式輸出入 => 影片寫入器 = cv.VideoWriter(影片路徑, 檔案格式, FPS, 解析度)\n",
    "out = cv.VideoWriter('output.mp4', fourcc, 15, (640, 480))"
   ]
  },
  {
   "cell_type": "markdown",
   "metadata": {},
   "source": [
    "### 第四步、讀取影像並將影像顯示在視窗上，按ESC鍵將視窗關閉，\n",
    "### &emsp;&emsp;&emsp;&emsp;同時將每個影像寫入到影片中"
   ]
  },
  {
   "cell_type": "code",
   "execution_count": 36,
   "metadata": {},
   "outputs": [
    {
     "ename": "error",
     "evalue": "OpenCV(4.5.1) C:\\Users\\appveyor\\AppData\\Local\\Temp\\1\\pip-req-build-kh7iq4w7\\opencv\\modules\\highgui\\src\\window.cpp:376: error: (-215:Assertion failed) size.width>0 && size.height>0 in function 'cv::imshow'\n",
     "output_type": "error",
     "traceback": [
      "\u001b[1;31m---------------------------------------------------------------------------\u001b[0m",
      "\u001b[1;31merror\u001b[0m                                     Traceback (most recent call last)",
      "\u001b[1;32m<ipython-input-36-3a7f9780c2e1>\u001b[0m in \u001b[0;36m<module>\u001b[1;34m\u001b[0m\n\u001b[0;32m     12\u001b[0m     \u001b[1;31m# 顯示攝影機影像\u001b[0m\u001b[1;33m\u001b[0m\u001b[1;33m\u001b[0m\u001b[1;33m\u001b[0m\u001b[0m\n\u001b[0;32m     13\u001b[0m     \u001b[1;31m# 函式輸出入 => cv.imshow(視窗名稱, 影像矩陣)\u001b[0m\u001b[1;33m\u001b[0m\u001b[1;33m\u001b[0m\u001b[1;33m\u001b[0m\u001b[0m\n\u001b[1;32m---> 14\u001b[1;33m     \u001b[0mcv\u001b[0m\u001b[1;33m.\u001b[0m\u001b[0mimshow\u001b[0m\u001b[1;33m(\u001b[0m\u001b[1;34m'frame'\u001b[0m\u001b[1;33m,\u001b[0m \u001b[0mframe\u001b[0m\u001b[1;33m)\u001b[0m\u001b[1;33m\u001b[0m\u001b[1;33m\u001b[0m\u001b[0m\n\u001b[0m\u001b[0;32m     15\u001b[0m \u001b[1;33m\u001b[0m\u001b[0m\n\u001b[0;32m     16\u001b[0m     \u001b[1;31m# 若按下ESC鍵則離開迴圈\u001b[0m\u001b[1;33m\u001b[0m\u001b[1;33m\u001b[0m\u001b[1;33m\u001b[0m\u001b[0m\n",
      "\u001b[1;31merror\u001b[0m: OpenCV(4.5.1) C:\\Users\\appveyor\\AppData\\Local\\Temp\\1\\pip-req-build-kh7iq4w7\\opencv\\modules\\highgui\\src\\window.cpp:376: error: (-215:Assertion failed) size.width>0 && size.height>0 in function 'cv::imshow'\n"
     ]
    }
   ],
   "source": [
    "# 使用while迴圈不斷從攝影機獲取新影像\n",
    "while(True):\n",
    "    # 讀取攝影機影像\n",
    "    # 函式輸出入 => 是否正常讀取, 攝影機影像 = cv.VideoCapture.read()\n",
    "    ret, frame = cap.read()\n",
    "    \n",
    "    # 若正常讀取攝影機影像則將影像寫入影片\n",
    "    # 函式輸出入 => cv.VideoWriter.write(欲寫入的影像)\n",
    "    if ret ==True:\n",
    "        out.write(frame)\n",
    "    \n",
    "    # 顯示攝影機影像\n",
    "    # 函式輸出入 => cv.imshow(視窗名稱, 影像矩陣)\n",
    "    cv.imshow('frame', frame)\n",
    "    \n",
    "    # 若按下ESC鍵則離開迴圈\n",
    "    # 函式輸出入 => 按鍵字元編碼 = cv.waitKey(停等時間單位毫秒)\n",
    "    if cv.waitKey(1) & 0xFF == 27:\n",
    "        break\n",
    "\n",
    "# 關閉所有OpenCV的視窗\n",
    "# 函式輸出入 => cv.destroyAllWindows()\n",
    "cv.destroyAllWindows()"
   ]
  },
  {
   "cell_type": "markdown",
   "metadata": {},
   "source": [
    "### 第五步、釋放攝影機資源、影片資源\n",
    "**<font color = red>請注意! 若無釋放會導致該程式一直佔用攝影機資源</font>**"
   ]
  },
  {
   "cell_type": "code",
   "execution_count": 33,
   "metadata": {},
   "outputs": [],
   "source": [
    "# 釋放攝影機\n",
    "# 函式輸出入 => cv.VideoCapture.release()\n",
    "cap.release()\n",
    "\n",
    "# 釋放影片\n",
    "# 函式輸出入 => cv.VideoWriter.release()\n",
    "out.release()"
   ]
  },
  {
   "cell_type": "code",
   "execution_count": null,
   "metadata": {},
   "outputs": [],
   "source": []
  }
 ],
 "metadata": {
  "kernelspec": {
   "display_name": "Python 3",
   "language": "python",
   "name": "python3"
  },
  "language_info": {
   "codemirror_mode": {
    "name": "ipython",
    "version": 3
   },
   "file_extension": ".py",
   "mimetype": "text/x-python",
   "name": "python",
   "nbconvert_exporter": "python",
   "pygments_lexer": "ipython3",
   "version": "3.8.10"
  }
 },
 "nbformat": 4,
 "nbformat_minor": 2
}
