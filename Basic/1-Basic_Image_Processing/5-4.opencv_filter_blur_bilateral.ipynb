{
 "cells": [
  {
   "cell_type": "markdown",
   "metadata": {},
   "source": [
    "# 雙邊濾波器(BilateralFilter)"
   ]
  },
  {
   "cell_type": "markdown",
   "metadata": {},
   "source": [
    "## key範例\n",
    "\n",
    "<table>\n",
    "    <tr>\n",
    "        <td><img src=\"img\\key.jpg\"></td>\n",
    "        <td><img src=\"img\\key_with_Salt_noise.png\"></td>\n",
    "    </tr>\n",
    "    <tr>\n",
    "        <td style=\"text-align:center\">Oring</td>\n",
    "        <td style=\"text-align:center\">key_with_Salt_noise</td>\n",
    "    </tr>\n",
    "</table>"
   ]
  },
  {
   "cell_type": "code",
   "execution_count": 11,
   "metadata": {},
   "outputs": [],
   "source": [
    "#導入將要使用的opencv模組\n",
    "import numpy as np\n",
    "import cv2 as cv"
   ]
  },
  {
   "cell_type": "code",
   "execution_count": 12,
   "metadata": {},
   "outputs": [],
   "source": [
    "#這邊使用鑰匙做範例，使用OpenCV內建雙邊濾波器函式做影像處理\n",
    "img_key = cv.imread('./img/key.jpg')\n",
    "\n",
    "bilateral_key = cv.bilateralFilter(img_key,9,75,75)\n",
    "\n",
    "#顯示影像處理結果\n",
    "cv.imshow('ori_key',img_key)\n",
    "cv.imshow('BilateralFilter_key',bilateral_key)\n",
    "\n",
    "cv.waitKey(0)\n",
    "cv.destroyAllWindows()"
   ]
  },
  {
   "cell_type": "markdown",
   "metadata": {},
   "source": [
    "## lenna 範例\n",
    "\n",
    "<table>\n",
    "    <tr>\n",
    "        <td><img src=\"img\\lenna.png\"></td>\n",
    "        <td><img src=\"img\\lenna_with_Salt-and-pepper_noise.png\"></td>\n",
    "    </tr>\n",
    "    <tr>\n",
    "        <td style=\"text-align:center\">Oring</td>\n",
    "        <td style=\"text-align:center\">lenna_with_Salt-and-pepper_noise</td>\n",
    "    </tr>\n",
    "</table>"
   ]
  },
  {
   "cell_type": "code",
   "execution_count": 19,
   "metadata": {},
   "outputs": [],
   "source": [
    "#img_lenna = cv.imread('./img/lenna.png')\n",
    "img_lenna = cv.imread('./img/lenna_with_Salt-and-pepper_noise.png')\n",
    "\n",
    "#這邊範例為Lena原圖的Lenna，用OpenCV內建中值濾波器函式做影像處理\n",
    "bilateral_lenna = cv.bilateralFilter(img_lenna,9,75,75)\n",
    "\n",
    "\n",
    "#顯示影像結果並與原圖做比較\n",
    "cv.imshow('Ori_lena',img_lenna)\n",
    "cv.imshow('BilateralFilter_key',bilateral_lenna)\n",
    "\n",
    "cv.waitKey(0)\n",
    "cv.destroyAllWindows()"
   ]
  },
  {
   "cell_type": "code",
   "execution_count": null,
   "metadata": {},
   "outputs": [],
   "source": []
  },
  {
   "cell_type": "code",
   "execution_count": null,
   "metadata": {},
   "outputs": [],
   "source": []
  }
 ],
 "metadata": {
  "kernelspec": {
   "display_name": "Python 3",
   "language": "python",
   "name": "python3"
  },
  "language_info": {
   "codemirror_mode": {
    "name": "ipython",
    "version": 3
   },
   "file_extension": ".py",
   "mimetype": "text/x-python",
   "name": "python",
   "nbconvert_exporter": "python",
   "pygments_lexer": "ipython3",
   "version": "3.7.6"
  }
 },
 "nbformat": 4,
 "nbformat_minor": 4
}
