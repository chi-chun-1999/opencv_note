{
 "cells": [
  {
   "cell_type": "markdown",
   "metadata": {},
   "source": [
    "# 基本影像處理 - 影像縮放\n",
    "---"
   ]
  },
  {
   "cell_type": "markdown",
   "metadata": {},
   "source": [
    "### 第一步、載入Python套件"
   ]
  },
  {
   "cell_type": "code",
   "execution_count": null,
   "metadata": {},
   "outputs": [],
   "source": [
    "# 載入套件\n",
    "import numpy as np\n",
    "import cv2 as cv"
   ]
  },
  {
   "cell_type": "markdown",
   "metadata": {},
   "source": [
    "### 第二步、讀取資料夾中的影像，這裡以Lenna.png為例"
   ]
  },
  {
   "cell_type": "code",
   "execution_count": null,
   "metadata": {},
   "outputs": [],
   "source": [
    "# 從圖檔讀取影像像素值矩陣\n",
    "# 函式輸出入 => 影像像素值矩陣 = cv.imread(圖片路徑)\n",
    "img = cv.imread('./img/Lenna.png')"
   ]
  },
  {
   "cell_type": "markdown",
   "metadata": {},
   "source": [
    "### 第三步、將影像進行放大或縮小成自訂的規格\n",
    "**在範例中將Lenna圖片放大為800*600大小**"
   ]
  },
  {
   "cell_type": "code",
   "execution_count": null,
   "metadata": {
    "scrolled": true
   },
   "outputs": [],
   "source": [
    "# 將影像進行縮放\n",
    "# 函式輸出入 => 輸出影像 = cv.resize(輸入影像, （寬,高）, 縮放方法)\n",
    "# 縮放方法：縮小圖像用INTER_AREA,放大圖像用INTER_CUBIC,效果較好\n",
    "img_resized = cv.resize(img, (800, 600), interpolation = cv.INTER_CUBIC)"
   ]
  },
  {
   "cell_type": "markdown",
   "metadata": {},
   "source": [
    "### 第四步、開啟視窗並將影像顯示出來，按任意鍵將視窗關閉\n",
    "<img src=\"img/attachment/Lenna_resized_cmb.png\" alt=\"Lenna_resized\" align=\"left\">"
   ]
  },
  {
   "cell_type": "code",
   "execution_count": null,
   "metadata": {},
   "outputs": [],
   "source": [
    "# 顯示原始影像與縮放影像\n",
    "# 函式輸出入 => cv.imshow(視窗名稱, 影像矩陣)\n",
    "cv.imshow('Original Lenna', img)\n",
    "cv.imshow('Resized Lenna', img_resized)\n",
    "\n",
    "# 暫停程式並在按下任意鍵後結束暫停\n",
    "# 函式輸出入 => 按鍵字元編碼 = cv.waitKey(停等時間單位毫秒)\n",
    "cv.waitKey(0)\n",
    "\n",
    "# 關閉所有OpenCV的視窗\n",
    "# 函式輸出入 => cv.destroyAllWindows()\n",
    "cv.destroyAllWindows()"
   ]
  },
  {
   "cell_type": "code",
   "execution_count": null,
   "metadata": {},
   "outputs": [],
   "source": []
  }
 ],
 "metadata": {
  "kernelspec": {
   "display_name": "Python 3",
   "language": "python",
   "name": "python3"
  },
  "language_info": {
   "codemirror_mode": {
    "name": "ipython",
    "version": 3
   },
   "file_extension": ".py",
   "mimetype": "text/x-python",
   "name": "python",
   "nbconvert_exporter": "python",
   "pygments_lexer": "ipython3",
   "version": "3.7.3"
  }
 },
 "nbformat": 4,
 "nbformat_minor": 2
}
