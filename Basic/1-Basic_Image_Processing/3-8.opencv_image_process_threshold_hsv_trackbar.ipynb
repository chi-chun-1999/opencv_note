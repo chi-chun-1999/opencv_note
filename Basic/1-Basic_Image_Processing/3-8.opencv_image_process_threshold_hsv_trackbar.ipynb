{
 "cells": [
  {
   "cell_type": "markdown",
   "metadata": {},
   "source": [
    "# 基本影像處理 - 使用滑桿動態調整顏色過濾區間\n",
    "---"
   ]
  },
  {
   "cell_type": "markdown",
   "metadata": {},
   "source": [
    "### 第一步、載入Python套件"
   ]
  },
  {
   "cell_type": "code",
   "execution_count": null,
   "metadata": {},
   "outputs": [],
   "source": [
    "# 載入套件\n",
    "import numpy as np\n",
    "import cv2 as cv"
   ]
  },
  {
   "cell_type": "markdown",
   "metadata": {},
   "source": [
    "### 第二步、讀取資料夾中的影像，這裡以HSV_ring.png為例\n",
    "<img src=\"img/HSV_ring.png\" alt=\"HSV_ring.png\" style=\"float:left;width:35%;height:35%;\">"
   ]
  },
  {
   "cell_type": "code",
   "execution_count": null,
   "metadata": {},
   "outputs": [],
   "source": [
    "# 從圖檔讀取影像像素值矩陣\n",
    "# 函式輸出入 => 影像像素值矩陣 = cv.imread(圖片路徑)\n",
    "img = cv.imread('./img/HSV_ring.png')"
   ]
  },
  {
   "cell_type": "markdown",
   "metadata": {},
   "source": [
    "### 第三步、色彩空間轉換\n",
    "**<font color = red>請注意! RGB彩色圖片由OpenCV讀取後，通道順序為BGR</font>**"
   ]
  },
  {
   "cell_type": "code",
   "execution_count": null,
   "metadata": {},
   "outputs": [],
   "source": [
    "# 色彩空間轉換，此範例為RGB→HSV\n",
    "# 函式輸出入 => 輸出影像 = cv.cvtColor(輸入影像, 色彩空間轉換方式)\n",
    "img_hsv = cv.cvtColor(img, cv.COLOR_BGR2HSV)"
   ]
  },
  {
   "cell_type": "markdown",
   "metadata": {},
   "source": [
    "### 第四步、初始化顏色區間上下界\n",
    "**<font color = red>請注意! OpenCV的HSV的H像素值為0\\~180、S像素值為0\\~255、V像素值為0\\~255</font>**"
   ]
  },
  {
   "cell_type": "code",
   "execution_count": null,
   "metadata": {},
   "outputs": [],
   "source": [
    "# 設定顏色區間上下界\n",
    "hsv_lower = np.array([0, 0, 0])\n",
    "hsv_upper = np.array([180, 255, 255])"
   ]
  },
  {
   "cell_type": "markdown",
   "metadata": {},
   "source": [
    "### 第五步、開啟視窗並將影像顯示出來，按任意鍵將視窗關閉\n",
    "<img src=\"img/attachment/HSV_ring_trackbar_cmb.png\" alt=\"HSV_ring_trackbar\" align=\"left\">"
   ]
  },
  {
   "cell_type": "code",
   "execution_count": null,
   "metadata": {},
   "outputs": [],
   "source": [
    "# 設定HSV滑桿（該函式不展開介紹，有興趣請自行參閱）\n",
    "%run base/base.ipynb\n",
    "hsv_track_bar(hsv_lower, hsv_upper)\n",
    "\n",
    "# 使用while迴圈不斷獲取滑桿數值並更新二值化影像\n",
    "while True:\n",
    "    # 同步滑桿數值（該函式不展開介紹，有興趣請自行參閱）\n",
    "    hsv_track_bar_update(hsv_lower, hsv_upper)\n",
    "    \n",
    "    # 二值化為純黑純白影像，若介於自定義顏色區間內令像素值為255，反之則令像素值為0\n",
    "    # 函式輸出入 => 輸出影像 = cv.inRange(輸入影像, 顏色區間下界, 顏色區間下上界)\n",
    "    img_thres = cv.inRange(img_hsv, hsv_lower, hsv_upper)\n",
    "    \n",
    "    # 以二值化影像為遮罩，將原始影像進行邏輯閘and-gate運算\n",
    "    # 函式輸出入 => 輸出影像 = cv.bitwise_and(輸入影像1, 輸入影像2, 遮罩影像)\n",
    "    img_masked = cv.bitwise_and(img, img, mask=img_thres)\n",
    "    \n",
    "    # 顯示原始影像與HSV影像\n",
    "    # 函式輸出入 => cv.imshow(視窗名稱, 影像矩陣)\n",
    "    cv.imshow('Original ring', img)\n",
    "    cv.imshow('Masked ring', img_masked)\n",
    "\n",
    "    # 暫停程式並在按下任意鍵後結束暫停\n",
    "    # 函式輸出入 => 按鍵字元編碼 = cv.waitKey(停等時間單位毫秒)\n",
    "    if cv.waitKey(1) == 27:\n",
    "        break\n",
    "\n",
    "# 關閉所有OpenCV的視窗\n",
    "# 函式輸出入 => cv.destroyAllWindows()\n",
    "cv.destroyAllWindows()"
   ]
  },
  {
   "cell_type": "code",
   "execution_count": null,
   "metadata": {},
   "outputs": [],
   "source": []
  }
 ],
 "metadata": {
  "kernelspec": {
   "display_name": "Python 3",
   "language": "python",
   "name": "python3"
  },
  "language_info": {
   "codemirror_mode": {
    "name": "ipython",
    "version": 3
   },
   "file_extension": ".py",
   "mimetype": "text/x-python",
   "name": "python",
   "nbconvert_exporter": "python",
   "pygments_lexer": "ipython3",
   "version": "3.7.3"
  }
 },
 "nbformat": 4,
 "nbformat_minor": 2
}
