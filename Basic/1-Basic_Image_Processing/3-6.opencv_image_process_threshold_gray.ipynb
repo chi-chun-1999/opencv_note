{
 "cells": [
  {
   "cell_type": "markdown",
   "metadata": {},
   "source": [
    "# 基本影像處理 - 單通道影像二值化\n",
    "---"
   ]
  },
  {
   "cell_type": "markdown",
   "metadata": {},
   "source": [
    "### 第一步、載入Python套件"
   ]
  },
  {
   "cell_type": "code",
   "execution_count": null,
   "metadata": {},
   "outputs": [],
   "source": [
    "# 載入套件\n",
    "import numpy as np\n",
    "import cv2 as cv"
   ]
  },
  {
   "cell_type": "markdown",
   "metadata": {},
   "source": [
    "### 第二步、讀取資料夾中的影像，這裡以Lenna.png為例"
   ]
  },
  {
   "cell_type": "code",
   "execution_count": null,
   "metadata": {},
   "outputs": [],
   "source": [
    "# 從圖檔讀取影像像素值矩陣\n",
    "# 函式輸出入 => 影像像素值矩陣 = cv.imread(圖片路徑)\n",
    "img = cv.imread('./img/Lenna.png')"
   ]
  },
  {
   "cell_type": "markdown",
   "metadata": {},
   "source": [
    "### 第三步、將原始影像轉換成灰階影像（單通道影像）"
   ]
  },
  {
   "cell_type": "code",
   "execution_count": null,
   "metadata": {},
   "outputs": [],
   "source": [
    "# 色彩空間轉換，此範例為RGB→灰階\n",
    "# 函式輸出入 => 輸出影像 = cv.cvtColor(輸入影像, 色彩空間轉換方式)\n",
    "img_gray = cv.cvtColor(img, cv.COLOR_BGR2GRAY)"
   ]
  },
  {
   "cell_type": "markdown",
   "metadata": {},
   "source": [
    "### 第四步、依據門檻值進行二值化\n",
    "**<font color = red>請注意! 八位元像素值為0~255</font>**\n",
    "\n",
    "二值化方式：\n",
    " - cv.THRESH_BINARY: 大於門檻值則令像素值為自定義最大值；不大於於門檻值令像素值為0\n",
    " - cv.THRESH_BINARY_INV: 大於門檻值則令像素值為0；不大於於門檻值令像素值為自定義最大值\n",
    " - cv.THRESH_TRUNC: 大於門檻值則令像素值為門檻值；不大於於門檻值令像素值不變\n",
    " - cv.THRESH_TOZERO: 大於門檻值則令像素值不變；不大於於門檻值令像素值為0\n",
    " - cv.THRESH_TOZERO_INV: 大於門檻值則令像素值為0；不大於於門檻值令像素值不變"
   ]
  },
  {
   "cell_type": "code",
   "execution_count": null,
   "metadata": {},
   "outputs": [],
   "source": [
    "# 二值化為純黑純白影像，小於門檻值令像素值為0；大於門檻值則令像素值為255\n",
    "# 函式輸出入 => 門檻值, 輸出影像 = cv.threshold(輸入影像, 門檻值, 輸出影像像素最大值, 二值化方式)\n",
    "thres, img_thres = cv.threshold(img_gray, 100, 255, cv.THRESH_BINARY)\n",
    "\n",
    "# 顯示門檻值\n",
    "print(thres)"
   ]
  },
  {
   "cell_type": "markdown",
   "metadata": {},
   "source": [
    "### 第五步、開啟視窗並將影像顯示出來，按任意鍵將視窗關閉\n",
    "<img src=\"img/attachment/Lenna_thres_cmb.png\" alt=\"Lenna_resize\" align=\"left\" width=\"80%\">"
   ]
  },
  {
   "cell_type": "code",
   "execution_count": null,
   "metadata": {},
   "outputs": [],
   "source": [
    "# 顯示原始影像與二值化影像\n",
    "# 函式輸出入 => cv.imshow(視窗名稱, 影像矩陣)\n",
    "cv.imshow('Original Lenna', img)\n",
    "cv.imshow('Binarization Lenna', img_thres)\n",
    "\n",
    "# 暫停程式並在按下任意鍵後結束暫停\n",
    "# 函式輸出入 => 按鍵字元編碼 = cv.waitKey(停等時間單位毫秒)\n",
    "cv.waitKey(0)\n",
    "\n",
    "# 關閉所有OpenCV的視窗\n",
    "# 函式輸出入 => cv.destroyAllWindows()\n",
    "cv.destroyAllWindows()"
   ]
  },
  {
   "cell_type": "code",
   "execution_count": null,
   "metadata": {},
   "outputs": [],
   "source": []
  }
 ],
 "metadata": {
  "kernelspec": {
   "display_name": "Python 3",
   "language": "python",
   "name": "python3"
  },
  "language_info": {
   "codemirror_mode": {
    "name": "ipython",
    "version": 3
   },
   "file_extension": ".py",
   "mimetype": "text/x-python",
   "name": "python",
   "nbconvert_exporter": "python",
   "pygments_lexer": "ipython3",
   "version": "3.7.3"
  }
 },
 "nbformat": 4,
 "nbformat_minor": 2
}
