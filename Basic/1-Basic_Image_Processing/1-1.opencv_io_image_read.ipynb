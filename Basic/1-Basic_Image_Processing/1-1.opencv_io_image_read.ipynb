{
 "cells": [
  {
   "cell_type": "markdown",
   "metadata": {},
   "source": [
    "# 基本影像存取 - 影像讀取\n",
    "---"
   ]
  },
  {
   "cell_type": "markdown",
   "metadata": {},
   "source": [
    "### 第一步、載入Python套件"
   ]
  },
  {
   "cell_type": "code",
   "execution_count": 1,
   "metadata": {},
   "outputs": [],
   "source": [
    "# 載入套件\n",
    "import numpy as np\n",
    "import cv2 as cv"
   ]
  },
  {
   "cell_type": "markdown",
   "metadata": {},
   "source": [
    "### 第二步、讀取資料夾中的影像，這裡以Lenna.png為例\n",
    "<img src=\"img/Lenna.png\" alt=\"Lenna.png\" style=\"float:left;width:35%;height:35%;\">"
   ]
  },
  {
   "cell_type": "code",
   "execution_count": 2,
   "metadata": {},
   "outputs": [
    {
     "name": "stdout",
     "output_type": "stream",
     "text": [
      "Height: 512\n",
      "Width: 512\n",
      "Channel: 3\n"
     ]
    }
   ],
   "source": [
    "# 從圖檔讀取影像像素值矩陣\n",
    "# 函式輸出入 => 影像像素值矩陣 = cv.imread(圖片路徑)\n",
    "img = cv.imread('./img/Lenna.png')\n",
    "\n",
    "# 顯示影像維度（高、寬、通道（RGB彩色圖片通道數為3,灰階圖片通道數為1))\n",
    "# 請注意! RGB彩色圖片由OpenCV讀取後，通道順序為BGR\n",
    "print ('Height: %d' % (img.shape[0]))\n",
    "print ('Width: %d' % (img.shape[1])) \n",
    "print ('Channel: %d' % (img.shape[2]))"
   ]
  },
  {
   "cell_type": "markdown",
   "metadata": {},
   "source": [
    "### 第三步、開啟視窗並將影像顯示出來\n",
    "**<font color = red>請注意! 此範例為錯誤示範，未將視窗正常關閉會導致程式無法終止</font>**<br>\n",
    "<img src=\"img\\attachment/Lenna_window.png\" alt=\"Lenna_window\" style=\"float:left;width:35%;height:35%;\">"
   ]
  },
  {
   "cell_type": "code",
   "execution_count": null,
   "metadata": {},
   "outputs": [],
   "source": [
    "# 開啟視窗並顯示影像\n",
    "# 函式輸出入 => cv.imshow(視窗名稱, 影像矩陣)\n",
    "cv.imshow('Lenna', img)\n",
    "\n",
    "# 暫停程式並在按下任意鍵後結束暫停\n",
    "# 函式輸出入 => 按鍵字元編碼 = cv.waitKey(停等時間單位毫秒)\n",
    "cv.waitKey(0)"
   ]
  },
  {
   "cell_type": "code",
   "execution_count": null,
   "metadata": {},
   "outputs": [],
   "source": []
  }
 ],
 "metadata": {
  "kernelspec": {
   "display_name": "Python 3",
   "language": "python",
   "name": "python3"
  },
  "language_info": {
   "codemirror_mode": {
    "name": "ipython",
    "version": 3
   },
   "file_extension": ".py",
   "mimetype": "text/x-python",
   "name": "python",
   "nbconvert_exporter": "python",
   "pygments_lexer": "ipython3",
   "version": "3.9.5"
  }
 },
 "nbformat": 4,
 "nbformat_minor": 2
}
