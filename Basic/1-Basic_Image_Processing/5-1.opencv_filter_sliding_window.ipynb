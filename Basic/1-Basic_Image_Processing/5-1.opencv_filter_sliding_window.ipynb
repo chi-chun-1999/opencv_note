{
 "cells": [
  {
   "cell_type": "markdown",
   "metadata": {},
   "source": [
    "# 基本影像過濾器 - 滑動式視窗檢視局部影像\n",
    "---"
   ]
  },
  {
   "cell_type": "markdown",
   "metadata": {},
   "source": [
    "### 第一步、載入Python套件"
   ]
  },
  {
   "cell_type": "code",
   "execution_count": 1,
   "metadata": {},
   "outputs": [],
   "source": [
    "# 載入套件\n",
    "import numpy as np\n",
    "import cv2 as cv"
   ]
  },
  {
   "cell_type": "markdown",
   "metadata": {},
   "source": [
    "### 第二步、讀取資料夾中的影像，這裡以Lenna.png為例\n",
    "<img src=\"img/Lenna.png\" alt=\"Lenna.png\" style=\"float:left;width:35%;height:35%;\">"
   ]
  },
  {
   "cell_type": "code",
   "execution_count": 2,
   "metadata": {},
   "outputs": [
    {
     "name": "stdout",
     "output_type": "stream",
     "text": [
      "Height: 512\n",
      "Width: 512\n",
      "Channel: 3\n"
     ]
    }
   ],
   "source": [
    "# 從圖檔讀取影像像素值矩陣\n",
    "# 函式輸出入 => 影像像素值矩陣 = cv.imread(圖片路徑)\n",
    "img = cv.imread('./img/Lenna.png')\n",
    "\n",
    "# 顯示影像維度（高、寬、通道（RGB彩色圖片通道數為3,灰階圖片通道數為1))\n",
    "# 請注意! RGB彩色圖片由OpenCV讀取後，通道順序為BGR\n",
    "print ('Height: %d' % (img.shape[0]))\n",
    "print ('Width: %d' % (img.shape[1])) \n",
    "print ('Channel: %d' % (img.shape[2]))"
   ]
  },
  {
   "cell_type": "markdown",
   "metadata": {},
   "source": [
    "### 第三步、定義滑動式視窗尺寸、滑動步輻"
   ]
  },
  {
   "cell_type": "code",
   "execution_count": 3,
   "metadata": {},
   "outputs": [],
   "source": [
    "# 定義滑動式視窗的尺寸（寬, 高）\n",
    "(window_w, window_h) = (128, 128)\n",
    "\n",
    "# 定義滑動式視窗的步輻（x, y）\n",
    "(step_x, step_y) = (32, 32)"
   ]
  },
  {
   "cell_type": "markdown",
   "metadata": {},
   "source": [
    "### 該步驟為繪圖所需，並非必要步驟"
   ]
  },
  {
   "cell_type": "code",
   "execution_count": 4,
   "metadata": {},
   "outputs": [],
   "source": [
    "# 複製原始影像作為滑動式視窗格線繪圖影像\n",
    "# 函式輸出入 => 影像像素值矩陣 = np.ndarray.copy()\n",
    "grid = img.copy()\n",
    "\n",
    "# 建立一張與原始影像同尺寸的空白影像作為遮罩繪圖影像\n",
    "# 函式輸出入 => 影像像素值矩陣 = np.zeros((高, 寬, 通道), 像素的資料型態)\n",
    "mask = np.zeros(img.shape, np.uint8)"
   ]
  },
  {
   "cell_type": "markdown",
   "metadata": {},
   "source": [
    "### 第四步、開啟視窗並將影像顯示出來，按任意鍵將視窗關閉\n",
    "<img src=\"img/attachment/Lenna_sliding_window.png\" alt=\"Lenna_sliding_window.png\" style=\"float:left;width:50%\">"
   ]
  },
  {
   "cell_type": "code",
   "execution_count": 6,
   "metadata": {},
   "outputs": [],
   "source": [
    "# 依據自定義的滑動式視窗尺寸、滑動步輻進行影像剪裁\n",
    "for y in range(0, img.shape[0] - window_h + 1, step_y):\n",
    "    for x in range(0, img.shape[1] - window_w + 1, step_x):\n",
    "        \n",
    "        # 切割出每一個滑動式視窗的局部影像\n",
    "        # 輸出影像 = 輸入影像[矩形左上角X:矩形右下角X, 矩形左上角Y:矩形右下角Y]\n",
    "        roi = img[y:y + window_h, x:x + window_w]\n",
    "          \n",
    "        # 繪圖所需不展開介紹，有興趣者請自行參閱\n",
    "        grid[y:y + window_h, x:x + window_w] = roi\n",
    "        mask[y:y + window_h, x:x + window_w] = roi\n",
    "        cv.rectangle(grid, (x, y), (x + window_w, y + window_h), (255, 0, 0), 1)\n",
    "        slide = cv.addWeighted(grid, 0.5, mask, 0.5, 0)\n",
    "        mask[y:y + window_h, x:x + window_w] = 0\n",
    "        \n",
    "        # 顯示遮罩影像與局部影像\n",
    "        # 函式輸出入 => cv.imshow(視窗名稱, 影像矩陣)\n",
    "        cv.imshow(\"Sliding window\", slide)\n",
    "        cv.imshow(\"Sliding roi\", roi)\n",
    "        \n",
    "        # 暫停程式並在按下任意鍵後結束暫停\n",
    "        # 函式輸出入 => 按鍵字元編碼 = cv.waitKey(停等時間單位毫秒)\n",
    "        cv.waitKey(30)\n",
    "        \n",
    "# 暫停程式並在按下任意鍵後結束暫停\n",
    "# 函式輸出入 => 按鍵字元編碼 = cv.waitKey(停等時間單位毫秒)\n",
    "cv.waitKey(0)\n",
    "\n",
    "# 關閉所有OpenCV的視窗\n",
    "# 函式輸出入 => cv.destroyAllWindows()\n",
    "cv.destroyAllWindows()"
   ]
  },
  {
   "cell_type": "code",
   "execution_count": null,
   "metadata": {},
   "outputs": [],
   "source": []
  }
 ],
 "metadata": {
  "kernelspec": {
   "display_name": "Python 3",
   "language": "python",
   "name": "python3"
  },
  "language_info": {
   "codemirror_mode": {
    "name": "ipython",
    "version": 3
   },
   "file_extension": ".py",
   "mimetype": "text/x-python",
   "name": "python",
   "nbconvert_exporter": "python",
   "pygments_lexer": "ipython3",
   "version": "3.8.10"
  }
 },
 "nbformat": 4,
 "nbformat_minor": 4
}
