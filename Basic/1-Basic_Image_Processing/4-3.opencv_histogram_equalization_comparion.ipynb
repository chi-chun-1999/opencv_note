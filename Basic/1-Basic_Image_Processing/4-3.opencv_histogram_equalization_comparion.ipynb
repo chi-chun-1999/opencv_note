{
 "cells": [
  {
   "cell_type": "markdown",
   "metadata": {},
   "source": [
    "## 顯示對比過後的直方圖"
   ]
  },
  {
   "cell_type": "code",
   "execution_count": null,
   "metadata": {},
   "outputs": [],
   "source": [
    "import cv2 as cv\n",
    "import numpy as np\n",
    "import matplotlib.pyplot as plt"
   ]
  },
  {
   "cell_type": "markdown",
   "metadata": {},
   "source": [
    "## __1.__ 載入圖片，並轉成灰階圖"
   ]
  },
  {
   "cell_type": "code",
   "execution_count": null,
   "metadata": {},
   "outputs": [],
   "source": [
    "img_lenna=cv.imread(\"./img/view.jpg\")\n",
    "\n",
    "img_gray = cv.cvtColor(img_lenna, cv.COLOR_BGR2GRAY)   "
   ]
  },
  {
   "cell_type": "markdown",
   "metadata": {},
   "source": [
    "## __2.__ 將灰階的圖片做成直方圖\n",
    "<span style=\"color:red\">這裡稍微說明OpenCV直方圖函式的用法，之後的單元會有更進一步的說明</span>"
   ]
  },
  {
   "cell_type": "code",
   "execution_count": null,
   "metadata": {},
   "outputs": [],
   "source": [
    "#dst_img=cv.equalizeHist(img_src)\n",
    "#dst_img:輸出影像\n",
    "#src_img:輸入影像\n",
    "cvdst = cv.equalizeHist(img_gray) #cv2.equalizeHist()是 OpevCV 內建的 Histogram Equalization 函數"
   ]
  },
  {
   "cell_type": "markdown",
   "metadata": {},
   "source": [
    "## __3.__ 最後將圖片及圖表顯示出來"
   ]
  },
  {
   "cell_type": "code",
   "execution_count": null,
   "metadata": {},
   "outputs": [],
   "source": [
    "plt.figure(figsize=(20,10))\n",
    "\n",
    "#(plt_1)\n",
    "plt.subplot(2,2,1)                                  # Set image location to show\n",
    "plt.title(\"Original Image - Gray\")\n",
    "plt.axis('off')\n",
    "plt.imshow(cv.cvtColor(img_gray, cv.COLOR_BGR2RGB))\n",
    "\n",
    "#(plt_2)\n",
    "plt.subplot(2,2,2)\n",
    "plt.title(\"Histrogram - (Gray) Original Image\")\n",
    "plt.hist(img_gray.ravel(),bins=256,range=(0,255))\n",
    "\n",
    "#(plt_3)\n",
    "plt.subplot(2,2,3)\n",
    "plt.title(\"After Equalization Image - Gray (cvdst)\")\n",
    "plt.axis('off')\n",
    "plt.imshow(cv.cvtColor(cvdst,cv.COLOR_BGR2RGB))\n",
    "\n",
    "#(plt_4)\n",
    "plt.subplot(2,2,4)\n",
    "plt.title(\"After Equalization Histrogram - Gray (cvdst)\")\n",
    "plt.hist(cvdst.ravel(),bins=256,range=(0,255),color='r')\n",
    "\n",
    "plt.plot()\n"
   ]
  },
  {
   "cell_type": "code",
   "execution_count": null,
   "metadata": {},
   "outputs": [],
   "source": []
  }
 ],
 "metadata": {
  "kernelspec": {
   "display_name": "Python 3",
   "language": "python",
   "name": "python3"
  },
  "language_info": {
   "codemirror_mode": {
    "name": "ipython",
    "version": 3
   },
   "file_extension": ".py",
   "mimetype": "text/x-python",
   "name": "python",
   "nbconvert_exporter": "python",
   "pygments_lexer": "ipython3",
   "version": "3.7.3"
  }
 },
 "nbformat": 4,
 "nbformat_minor": 4
}
