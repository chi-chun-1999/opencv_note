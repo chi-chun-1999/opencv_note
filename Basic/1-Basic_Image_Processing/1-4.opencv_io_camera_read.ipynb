{
 "cells": [
  {
   "cell_type": "markdown",
   "metadata": {},
   "source": [
    "# 基本攝影機處理 - 開啟攝影機並獲取影像\n",
    "---"
   ]
  },
  {
   "cell_type": "markdown",
   "metadata": {},
   "source": [
    "### 第一步、載入Python套件"
   ]
  },
  {
   "cell_type": "code",
   "execution_count": 1,
   "metadata": {},
   "outputs": [],
   "source": [
    "# 載入套件\n",
    "import numpy as np\n",
    "import cv2 as cv"
   ]
  },
  {
   "cell_type": "markdown",
   "metadata": {},
   "source": [
    "### 第二步、開啟攝影機\n",
    "**<font color = red>請注意! 需先確認Google Meet的攝影機是否已先關閉</font>**"
   ]
  },
  {
   "cell_type": "code",
   "execution_count": 2,
   "metadata": {},
   "outputs": [],
   "source": [
    "# 開啟攝影機\n",
    "# 函式輸出入 => 攝影機 = cv.VideoCapture(攝影機編號)\n",
    "cap = cv.VideoCapture(0)"
   ]
  },
  {
   "cell_type": "markdown",
   "metadata": {},
   "source": [
    "### 第三步、讀取影像並將影像顯示在視窗上，按ESC鍵將視窗關閉"
   ]
  },
  {
   "cell_type": "code",
   "execution_count": 3,
   "metadata": {},
   "outputs": [],
   "source": [
    "# 使用while迴圈不斷從攝影機獲取新影像\n",
    "while(True):\n",
    "    # 讀取攝影機影像\n",
    "    # 函式輸出入 => 是否正常讀取, 攝影機影像 = cv.VideoCapture.read()\n",
    "    ret, frame = cap.read()\n",
    "    \n",
    "    # 顯示攝影機影像\n",
    "    # 函式輸出入 => cv.imshow(視窗名稱, 影像矩陣)\n",
    "    cv.imshow('frame', frame)\n",
    "    \n",
    "    # 若按下ESC鍵則離開迴圈\n",
    "    # 函式輸出入 => 按鍵字元編碼 = cv.waitKey(停等時間單位毫秒)\n",
    "    if cv.waitKey(1) & 0xFF == 27:\n",
    "        break\n",
    "\n",
    "# 關閉所有OpenCV的視窗\n",
    "# 函式輸出入 => cv.destroyAllWindows()\n",
    "cv.destroyAllWindows()"
   ]
  },
  {
   "cell_type": "markdown",
   "metadata": {},
   "source": [
    "### 第四步、釋放攝影機資源\n",
    "**<font color = red>請注意! 若無釋放會導致該程式一直佔用攝影機資源</font>**"
   ]
  },
  {
   "cell_type": "code",
   "execution_count": 4,
   "metadata": {},
   "outputs": [],
   "source": [
    "# 釋放攝影機\n",
    "# 函式輸出入 => cv.VideoCapture.release()\n",
    "cap.release()"
   ]
  },
  {
   "cell_type": "code",
   "execution_count": null,
   "metadata": {},
   "outputs": [],
   "source": []
  }
 ],
 "metadata": {
  "kernelspec": {
   "display_name": "Python 3",
   "language": "python",
   "name": "python3"
  },
  "language_info": {
   "codemirror_mode": {
    "name": "ipython",
    "version": 3
   },
   "file_extension": ".py",
   "mimetype": "text/x-python",
   "name": "python",
   "nbconvert_exporter": "python",
   "pygments_lexer": "ipython3",
   "version": "3.8.10"
  }
 },
 "nbformat": 4,
 "nbformat_minor": 2
}
