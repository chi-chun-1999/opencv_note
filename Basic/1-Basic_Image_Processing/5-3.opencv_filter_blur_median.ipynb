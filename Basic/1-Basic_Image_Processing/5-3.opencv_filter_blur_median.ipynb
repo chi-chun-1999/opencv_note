{
 "cells": [
  {
   "cell_type": "markdown",
   "metadata": {},
   "source": [
    "# OpenCV - medianBlur"
   ]
  },
  {
   "cell_type": "markdown",
   "metadata": {},
   "source": [
    "## key範例"
   ]
  },
  {
   "cell_type": "code",
   "execution_count": 2,
   "metadata": {},
   "outputs": [],
   "source": [
    "#導入將要使用的opencv模組\n",
    "import numpy as np\n",
    "import cv2 as cv"
   ]
  },
  {
   "cell_type": "code",
   "execution_count": 3,
   "metadata": {},
   "outputs": [],
   "source": [
    "#讀取範例影像\n",
    "img_key = cv.imread('./img/key.png')\n",
    "\n",
    "#這邊範例為鑰匙，使用OpenCV內建中值濾波器函式做影像處理\n",
    "MedianBlur_key = cv.medianBlur(img_key,ksize=5)\n",
    "#dst_img=cv.medianBlur(src_img,ksize)\n",
    "#dst_img:輸出影像\n",
    "#src_img:輸入影像\n",
    "#ksize:核大小\n",
    "\n",
    "\n",
    "\n",
    "#顯示影像處理結果\n",
    "cv.imshow('ori_key',img_key)\n",
    "cv.imshow('MedianBlur_key',MedianBlur_key)\n",
    "\n",
    "cv.waitKey(0)\n",
    "cv.destroyAllWindows()"
   ]
  },
  {
   "cell_type": "markdown",
   "metadata": {},
   "source": [
    "## key image with salt noise"
   ]
  },
  {
   "cell_type": "code",
   "execution_count": 5,
   "metadata": {},
   "outputs": [],
   "source": [
    "#讀取範例影像\n",
    "img_key = cv.imread('./img/key.png')\n",
    "img_saltNoiseKey = cv.imread('./img/key_with_Salt_noise.png')\n",
    "\n",
    "#這邊範例為鑰匙，使用OpenCV內建中值濾波器函式做影像處理\n",
    "saltNoise_MedianBlur_key = cv.medianBlur(img_saltNoiseKey,ksize=5)\n",
    "\n",
    "#顯示影像處理結果\n",
    "cv.imshow('ori_key',img_key)\n",
    "cv.imshow('SaltNoise_key',img_saltNoiseKey)\n",
    "cv.imshow('saltNoise_MedianBlur_key',saltNoise_MedianBlur_key)\n",
    "\n",
    "cv.waitKey(0)\n",
    "cv.destroyAllWindows()"
   ]
  },
  {
   "cell_type": "markdown",
   "metadata": {},
   "source": [
    "# lenna 範例"
   ]
  },
  {
   "cell_type": "code",
   "execution_count": 11,
   "metadata": {},
   "outputs": [],
   "source": [
    "#導入將要使用的opencv模組\n",
    "import numpy as np\n",
    "import cv2 as cv"
   ]
  },
  {
   "cell_type": "code",
   "execution_count": 6,
   "metadata": {},
   "outputs": [],
   "source": [
    "#讀取範例影像\n",
    "img_lena = cv.imread('./img/Lenna.png')\n",
    "\n",
    "#這邊範例為Lena原圖的Lenna，用OpenCV內建中值濾波器函式做影像處理\n",
    "MedianBlur_ori_lena = cv.medianBlur(img_lena,5)\n",
    "\n",
    "\n",
    "#顯示影像結果並與原圖做比較\n",
    "cv.imshow('Ori_lena',img_lena)\n",
    "cv.imshow('MedianBlur_ori_lena',MedianBlur_ori_lena)\n",
    "\n",
    "\n",
    "\n",
    "cv.waitKey(0)\n",
    "cv.destroyAllWindows()"
   ]
  },
  {
   "cell_type": "markdown",
   "metadata": {},
   "source": [
    "# lenna with noise"
   ]
  },
  {
   "cell_type": "code",
   "execution_count": 7,
   "metadata": {},
   "outputs": [],
   "source": [
    "lena_noise = cv.imread('./img/lenna_with_Salt-and-pepper_noise.png')\n",
    "\n",
    "#這邊範例為有噪聲的Lenna，用OpenCV內建中值濾波器函式做影像處理\n",
    "MedianBlur_lena_noise = cv.medianBlur(lena_noise,5)\n",
    "\n",
    "cv.imshow('Lena_noise',lena_noise)\n",
    "cv.imshow('MedianBlur_lena',MedianBlur_lena_noise)\n",
    "\n",
    "cv.waitKey(0)\n",
    "cv.destroyAllWindows()"
   ]
  },
  {
   "cell_type": "code",
   "execution_count": null,
   "metadata": {},
   "outputs": [],
   "source": []
  }
 ],
 "metadata": {
  "kernelspec": {
   "display_name": "Python 3",
   "language": "python",
   "name": "python3"
  },
  "language_info": {
   "codemirror_mode": {
    "name": "ipython",
    "version": 3
   },
   "file_extension": ".py",
   "mimetype": "text/x-python",
   "name": "python",
   "nbconvert_exporter": "python",
   "pygments_lexer": "ipython3",
   "version": "3.7.3"
  }
 },
 "nbformat": 4,
 "nbformat_minor": 4
}
