{
 "cells": [
  {
   "cell_type": "markdown",
   "id": "0e064c76",
   "metadata": {},
   "source": [
    "```python\n",
    "#定義showImage函式，可以用matplotlib來show圖\n",
    "#showImage(image,title_name,sub_row=1,sub_col=1,sub_num=1)\n",
    "#image:要show的圖\n",
    "#tiltle_name:圖的標題\n",
    "#sub_row:對應到 plt.subplot中的 row參數，預設為 1\n",
    "#sub_col:對應到 plt.subplot中的 col參數，預設為 1\n",
    "#sub_num:對應到 plt.subplot中的 plotNum參數，預設為 1\n",
    "\n",
    "def showImage(image,title_name=\"\",sub_row=1,sub_col=1,sub_num=1):\n",
    "    '''\n",
    "    在jupyter中使用matplotlib直接顯示圖片在記事本中\n",
    "    ''' \n",
    "    plt.subplot(sub_row,sub_col,sub_num)  \n",
    "    plt.title(title_name)\n",
    "    \n",
    "\n",
    "    # OpenCV的彩色影像 需轉成RGB順序\n",
    "    if len(image.shape) == 3 and image.shape[2] == 3:\n",
    "        image = cv.cvtColor(image, cv.COLOR_BGR2RGB)\n",
    "        plt.axis('off') \n",
    "        plt.imshow(image)\n",
    "    # OpenCV的灰階影像 需要特別調整 plt.imshow 的參數\n",
    "    if len(image.shape) == 2:\n",
    "        plt.axis('off') \n",
    "        plt.imshow(image, cmap=plt.cm.gray, vmin=0, vmax=255)\n",
    "    \n",
    "    # OpenCV的透明像素點的彩色影像 需轉成RGB順序\n",
    "    if len(image.shape) == 3 and image.shape[2] == 4:\n",
    "        image = cv.cvtColor(image, cv.COLOR_BGRA2RGB)\n",
    "        plt.axis('off') \n",
    "        plt.imshow(image)\n",
    "\n",
    "```\n",
    "\n",
    "\n",
    "在OpenCV中三通的順序為\n",
    "\n"
   ]
  },
  {
   "cell_type": "markdown",
   "id": "a60a3698",
   "metadata": {},
   "source": []
  },
  {
   "cell_type": "code",
   "execution_count": null,
   "id": "760dfdc8",
   "metadata": {},
   "outputs": [],
   "source": []
  }
 ],
 "metadata": {
  "kernelspec": {
   "display_name": "Python 3",
   "language": "python",
   "name": "python3"
  },
  "language_info": {
   "codemirror_mode": {
    "name": "ipython",
    "version": 3
   },
   "file_extension": ".py",
   "mimetype": "text/x-python",
   "name": "python",
   "nbconvert_exporter": "python",
   "pygments_lexer": "ipython3",
   "version": "3.8.10"
  }
 },
 "nbformat": 4,
 "nbformat_minor": 5
}
