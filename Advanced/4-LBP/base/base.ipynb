{
 "cells": [
  {
   "cell_type": "code",
   "execution_count": null,
   "metadata": {},
   "outputs": [],
   "source": [
    "import numpy as np\n",
    "import cv2 as cv\n",
    "from matplotlib import pyplot as plt"
   ]
  },
  {
   "cell_type": "code",
   "execution_count": null,
   "metadata": {},
   "outputs": [],
   "source": [
    "#dist_img=lbp(src_img)\n",
    "#dist_img:輸出影像\n",
    "#src_img:輸入影像(只接受灰階圖)\n",
    "\n",
    "\n",
    "def lbp(img):\n",
    "    assert(len(img.shape) == 2) # 只接受灰階影像\n",
    "    ret = np.zeros_like(img)\n",
    "    \n",
    "    img = cv.copyMakeBorder(img, 1, 1, 1, 1, cv.BORDER_REPLICATE)\n",
    "    \n",
    "    for y in range(1, img.shape[0] - 1):\n",
    "        for x in range(1, img.shape[1] - 1):\n",
    "            center = img[y][x]\n",
    "            pixel = 0\n",
    "            pixel |= (img[y - 1][x - 1] >= center) << 0\n",
    "            pixel |= (img[y - 1][x + 0] >= center) << 1\n",
    "            pixel |= (img[y - 1][x + 1] >= center) << 2\n",
    "            pixel |= (img[y + 0][x + 1] >= center) << 3\n",
    "            pixel |= (img[y + 1][x + 1] >= center) << 4\n",
    "            pixel |= (img[y + 1][x + 0] >= center) << 5\n",
    "            pixel |= (img[y + 1][x - 1] >= center) << 6\n",
    "            pixel |= (img[y + 0][x - 1] >= center) << 7\n",
    "            \n",
    "            ret[y-1][x-1] = pixel\n",
    "    return ret\n"
   ]
  },
  {
   "cell_type": "code",
   "execution_count": null,
   "metadata": {},
   "outputs": [],
   "source": [
    "#定義showHist函式，可以用matplotlib來show圖表\n",
    "#showHist(hist,title_name,x_label='Bins',y_label='# of Pixels',sub_row=1,sub_col=1,sub_num=1)\n",
    "#hist:要show的圖表\n",
    "#tiltle_name:圖表的標題\n",
    "#x_label:x軸的標題\n",
    "#x_label:y軸的標題\n",
    "#sub_row:對應到 plt.subplot中的 row參數，預設為 1\n",
    "#sub_col:對應到 plt.subplot中的 col參數，預設為 1\n",
    "#sub_num:對應到 plt.subplot中的 plotNum參數，預設為 1\n",
    "#y_limit:為x軸最大值，預設為 None。\n",
    "\n",
    "def showHist(hist,title_name=\"\",x_label='Bins',y_label='# of Pixels',sub_row=1,sub_col=1,sub_num=1,y_limit=None):\n",
    "    plt.subplot(sub_row,sub_col,sub_num)\n",
    "    #hist[255]=0\n",
    "    plt.plot(hist)\n",
    "    #plt.ylim([0, 2500])\n",
    "    plt.xlabel(x_label)\n",
    "    plt.ylabel(y_label)\n",
    "    plt.title(title_name)\n",
    "    plt.xlim([0, len(hist)])\n",
    "    if y_limit!=None:\n",
    "        plt.ylim([0, y_limit])\n",
    "\n"
   ]
  },
  {
   "cell_type": "code",
   "execution_count": null,
   "metadata": {},
   "outputs": [],
   "source": [
    "#定義showImage函式，可以用matplotlib來show圖\n",
    "#showImage(image,title_name,sub_row=1,sub_col=1,sub_num=1)\n",
    "#image:要show的圖\n",
    "#tiltle_name:圖的標題\n",
    "#sub_row:對應到 plt.subplot中的 row參數，預設為 1\n",
    "#sub_col:對應到 plt.subplot中的 col參數，預設為 1\n",
    "#sub_num:對應到 plt.subplot中的 plotNum參數，預設為 1\n",
    "\n",
    "def showImage(image,title_name=\"\",sub_row=1,sub_col=1,sub_num=1):\n",
    "    '''\n",
    "    在jupyter中使用matplotlib直接顯示圖片在記事本中\n",
    "    ''' \n",
    "    plt.subplot(sub_row,sub_col,sub_num)  \n",
    "    plt.title(title_name)\n",
    "    \n",
    "\n",
    "    # OpenCV的彩色影像 需轉成RGB順序\n",
    "    if len(image.shape) == 3 and image.shape[2] == 3:\n",
    "        image = cv.cvtColor(image, cv.COLOR_BGR2RGB)\n",
    "        plt.axis('off') \n",
    "        plt.imshow(image)\n",
    "    # OpenCV的灰階影像 需要特別調整 plt.imshow 的參數\n",
    "    if len(image.shape) == 2:\n",
    "        plt.axis('off') \n",
    "        plt.imshow(image, cmap=plt.cm.gray, vmin=0, vmax=255)\n",
    "    \n",
    "    # OpenCV的透明像素點的彩色影像 需轉成RGB順序\n",
    "    if len(image.shape) == 3 and image.shape[2] == 4:\n",
    "        image = cv.cvtColor(image, cv.COLOR_BGRA2RGB)\n",
    "        plt.axis('off') \n",
    "        plt.imshow(image)\n",
    "\n",
    "       "
   ]
  },
  {
   "cell_type": "code",
   "execution_count": null,
   "metadata": {},
   "outputs": [],
   "source": [
    "#transparentMask(src_img)\n",
    "#src_img:輸入影像(必須為 4通道的影像)\n",
    "#--------------------------------\n",
    "#回傳:透明像素點的影像遮罩\n",
    "\n",
    "def transparentMask(src_img):\n",
    "    if src_img.shape[2]!=4:\n",
    "        return None\n",
    "    else:\n",
    "        mask = np.zeros(src_img.shape[:2], dtype=\"uint8\")\n",
    "        for i in range(0,len(src_img)):\n",
    "            for j in range(0,len(src_img[i])):\n",
    "                #print(sign_without_background_img[i][j])\n",
    "                if src_img[i][j][3]!=0:\n",
    "                    mask[i][j]=255\n",
    "        return mask"
   ]
  }
 ],
 "metadata": {
  "kernelspec": {
   "display_name": "Python 3",
   "language": "python",
   "name": "python3"
  },
  "language_info": {
   "codemirror_mode": {
    "name": "ipython",
    "version": 3
   },
   "file_extension": ".py",
   "mimetype": "text/x-python",
   "name": "python",
   "nbconvert_exporter": "python",
   "pygments_lexer": "ipython3",
   "version": "3.8.3"
  }
 },
 "nbformat": 4,
 "nbformat_minor": 4
}
