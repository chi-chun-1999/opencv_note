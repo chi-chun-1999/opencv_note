{
 "cells": [
  {
   "cell_type": "markdown",
   "metadata": {},
   "source": [
    "# 2-3. 基本影像特徵 - 邊緣特徵Laplacian\n",
    "---"
   ]
  },
  {
   "cell_type": "markdown",
   "metadata": {},
   "source": [
    "### 第一步、載入Python套件"
   ]
  },
  {
   "cell_type": "code",
   "execution_count": null,
   "metadata": {},
   "outputs": [],
   "source": [
    "# 載入套件\n",
    "import cv2 as cv\n",
    "import numpy as np"
   ]
  },
  {
   "cell_type": "markdown",
   "metadata": {},
   "source": [
    "### 第二步、讀取資料夾中的影像，這裡以key.png為例（可改為Lenna.png看看效果如何）\n",
    "<img src=\"img/key.png\" alt=\"key.png\" style=\"float:left;width:35%\">"
   ]
  },
  {
   "cell_type": "code",
   "execution_count": null,
   "metadata": {},
   "outputs": [],
   "source": [
    "# 從圖檔讀取影像像素值矩陣\n",
    "# 函式輸出入 => 影像像素值矩陣 = cv.imread(圖片路徑)\n",
    "img = cv.imread(\"./img/key.png\")"
   ]
  },
  {
   "cell_type": "markdown",
   "metadata": {},
   "source": [
    "### 第三步、將原始影像轉換成灰階影像，因計算邊緣特徵計算所需"
   ]
  },
  {
   "cell_type": "code",
   "execution_count": null,
   "metadata": {},
   "outputs": [],
   "source": [
    "# 色彩空間轉換，此範例為RGB→灰階\n",
    "# 函式輸出入 => 輸出影像 = cv.cvtColor(輸入影像, 色彩空間轉換方式)\n",
    "img_gray = cv.cvtColor(img, cv.COLOR_BGR2GRAY)"
   ]
  },
  {
   "cell_type": "markdown",
   "metadata": {},
   "source": [
    "### 第四步、計算Laplacian邊緣特徵"
   ]
  },
  {
   "cell_type": "code",
   "execution_count": null,
   "metadata": {},
   "outputs": [],
   "source": [
    "# 計算Laplacian邊緣特徵\n",
    "# 函式輸出入 => 輸出影像 = cv.Laplacian(輸入影像, 輸出的影像格式, 特徵尺寸)\n",
    "# 輸出的影像格式: 當值為-1時表示與原圖相同\n",
    "# 特徵尺寸: 該參數只能是奇數\n",
    "img_laplace = cv.Laplacian(img_gray, ddepth=-1, ksize=3)"
   ]
  },
  {
   "cell_type": "markdown",
   "metadata": {},
   "source": [
    "### 第五步、開啟視窗並將影像顯示出來，按任意鍵將視窗關閉\n",
    "<img src=\"img/attachment/key_laplacian.png\" alt=\"key_laplacian.png\" style=\"float:left;width:75%\">"
   ]
  },
  {
   "cell_type": "code",
   "execution_count": null,
   "metadata": {},
   "outputs": [],
   "source": [
    "# 顯示遮罩影像與局部影像\n",
    "# 函式輸出入 => cv.imshow(視窗名稱, 影像矩陣)\n",
    "cv.imshow(\"Origin image\", img)\n",
    "cv.imshow('Laplacian feature', img_laplace)\n",
    "\n",
    "# 暫停程式並在按下任意鍵後結束暫停\n",
    "# 函式輸出入 => 按鍵字元編碼 = cv.waitKey(停等時間單位毫秒)\n",
    "cv.waitKey(0)\n",
    "\n",
    "# 關閉所有OpenCV的視窗\n",
    "# 函式輸出入 => cv.destroyAllWindows()\n",
    "cv.destroyAllWindows()"
   ]
  },
  {
   "cell_type": "code",
   "execution_count": null,
   "metadata": {},
   "outputs": [],
   "source": []
  }
 ],
 "metadata": {
  "kernelspec": {
   "display_name": "Python 3",
   "language": "python",
   "name": "python3"
  },
  "language_info": {
   "codemirror_mode": {
    "name": "ipython",
    "version": 3
   },
   "file_extension": ".py",
   "mimetype": "text/x-python",
   "name": "python",
   "nbconvert_exporter": "python",
   "pygments_lexer": "ipython3",
   "version": "3.7.3"
  }
 },
 "nbformat": 4,
 "nbformat_minor": 4
}
