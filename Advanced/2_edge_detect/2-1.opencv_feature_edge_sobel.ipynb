{
 "cells": [
  {
   "cell_type": "markdown",
   "metadata": {},
   "source": [
    "# 2-1. 基本影像特徵 - 邊緣特徵Sobel\n",
    "---"
   ]
  },
  {
   "cell_type": "markdown",
   "metadata": {},
   "source": [
    "### 本節介紹的是在邊緣偵測中常用到的幾個方法，在影像中若是可以將物體的邊緣都清楚的描述出來，將可以幫助我們在後續標註及偵測目標物上，將會有大大的提昇辨識率。\n",
    "### OpenCV有內建幾個邊緣偵測的方法(Sobel、Laplacian、Canny)，也都有相對應的函式可以使用。\n",
    "---"
   ]
  },
  {
   "cell_type": "markdown",
   "metadata": {},
   "source": [
    "### 第一步、載入Python套件"
   ]
  },
  {
   "cell_type": "code",
   "execution_count": 1,
   "metadata": {},
   "outputs": [],
   "source": [
    "# 載入套件\n",
    "import cv2 as cv\n",
    "import numpy as np"
   ]
  },
  {
   "cell_type": "markdown",
   "metadata": {},
   "source": [
    "### 第二步、讀取資料夾中的影像，這裡以key.png為例（可改為Lenna.png看看效果如何）\n",
    "<img src=\"img/key.png\" alt=\"key.png\" style=\"float:left;width:35%\">"
   ]
  },
  {
   "cell_type": "code",
   "execution_count": 2,
   "metadata": {},
   "outputs": [],
   "source": [
    "# 從圖檔讀取影像像素值矩陣\n",
    "# 函式輸出入 => 影像像素值矩陣 = cv.imread(圖片路徑)\n",
    "img = cv.imread(\"./img/key.png\")"
   ]
  },
  {
   "cell_type": "markdown",
   "metadata": {},
   "source": [
    "### 第三步、將原始影像轉換成灰階影像，因計算邊緣特徵計算所需"
   ]
  },
  {
   "cell_type": "code",
   "execution_count": 3,
   "metadata": {},
   "outputs": [],
   "source": [
    "# 色彩空間轉換，此範例為RGB→灰階\n",
    "# 函式輸出入 => 輸出影像 = cv.cvtColor(輸入影像, 色彩空間轉換方式)\n",
    "img_gray = cv.cvtColor(img, cv.COLOR_BGR2GRAY)"
   ]
  },
  {
   "cell_type": "markdown",
   "metadata": {},
   "source": [
    "### 第四步、分別計算X軸、Y軸的Sobel邊緣特徵"
   ]
  },
  {
   "cell_type": "code",
   "execution_count": 4,
   "metadata": {},
   "outputs": [],
   "source": [
    "# 分別針對影像的 X軸 與 Y軸 方向計算Sobel邊緣特徵\n",
    "# 函式輸出入 => 輸出影像 = cv.Sobel(輸入影像, 輸出的影像格式, X軸特徵計算次數, Y軸特徵計算次數, 特徵尺寸)\n",
    "# 輸出的影像格式: Sobel特徵像素值為-1020~1020，若使用 cv.CV_8S 無法表示該數值範圍，所以應該使用cv.CV_16s\n",
    "# 特徵尺寸: 該參數只能是奇數\n",
    "img_sobel_x = cv.Sobel(img_gray, cv.CV_16S, dx=1, dy=0, ksize=3)\n",
    "img_sobel_y = cv.Sobel(img_gray, cv.CV_16S, dx=0, dy=1, ksize=3)"
   ]
  },
  {
   "cell_type": "markdown",
   "metadata": {},
   "source": [
    "### 第五步、將Sobel邊緣特徵正規化至八位元影像，再將X、Y軸特徵進行合併\n",
    "**<font color = red>請注意! Sobel特徵像素值為-1020\\~1020，八位元像素值為0\\~255</font>**"
   ]
  },
  {
   "cell_type": "code",
   "execution_count": 5,
   "metadata": {},
   "outputs": [],
   "source": [
    "# 將Sobel邊緣特徵(-1020~1020)取絕對值後轉成 uint-8\n",
    "# 函式輸出入 => 輸出影像 = cv.convertScaleAbs(輸入影像)\n",
    "img_sobel_x = cv.convertScaleAbs(img_sobel_x)\n",
    "img_sobel_y = cv.convertScaleAbs(img_sobel_y)\n",
    "\n",
    "# 合併X軸、Y軸的Sobel邊緣特徵\n",
    "# 函式輸出入 => 輸出影像 = cv.addWeighted(輸入影像1, 合成比例1, 輸入影像2, 合成比例2, 偏權值)\n",
    "img_sobel = cv.addWeighted(img_sobel_x, 0.5, img_sobel_y, 0.5, 0)"
   ]
  },
  {
   "cell_type": "markdown",
   "metadata": {},
   "source": [
    "### 第六步、開啟視窗並將影像顯示出來，按任意鍵將視窗關閉\n",
    "<img src=\"img/attachment/key_sobel.png\" alt=\"key_sobel.png\" style=\"float:left;width:75%\">"
   ]
  },
  {
   "cell_type": "code",
   "execution_count": 6,
   "metadata": {},
   "outputs": [],
   "source": [
    "# 顯示遮罩影像與局部影像\n",
    "# 函式輸出入 => cv.imshow(視窗名稱, 影像矩陣)\n",
    "cv.imshow(\"Origin image\", img)\n",
    "cv.imshow('Sobel feature', img_sobel)\n",
    "cv.imshow('Sobel feature X', img_sobel_x)\n",
    "cv.imshow('Sobel feature Y', img_sobel_y)\n",
    "\n",
    "# 將所有視窗進行排版，不展開介紹，有興趣者請自行參閱\n",
    "window_location=[0, 0]\n",
    "cv.moveWindow(\"Origin image\", window_location[0], window_location[1])\n",
    "window_location=[img.shape[1], 0]\n",
    "cv.moveWindow(\"Sobel feature\", window_location[0], window_location[1])\n",
    "window_location=[0, img.shape[0] + 30]\n",
    "cv.moveWindow(\"Sobel feature X\", window_location[0], window_location[1])\n",
    "window_location=[img.shape[1], img.shape[0] + 30]\n",
    "cv.moveWindow(\"Sobel feature Y\", window_location[0], window_location[1])\n",
    "\n",
    "# 暫停程式並在按下任意鍵後結束暫停\n",
    "# 函式輸出入 => 按鍵字元編碼 = cv.waitKey(停等時間單位毫秒)\n",
    "cv.waitKey(0)\n",
    "\n",
    "# 關閉所有OpenCV的視窗\n",
    "# 函式輸出入 => cv.destroyAllWindows()\n",
    "cv.destroyAllWindows()"
   ]
  },
  {
   "cell_type": "code",
   "execution_count": null,
   "metadata": {},
   "outputs": [],
   "source": []
  }
 ],
 "metadata": {
  "kernelspec": {
   "display_name": "Python 3",
   "language": "python",
   "name": "python3"
  },
  "language_info": {
   "codemirror_mode": {
    "name": "ipython",
    "version": 3
   },
   "file_extension": ".py",
   "mimetype": "text/x-python",
   "name": "python",
   "nbconvert_exporter": "python",
   "pygments_lexer": "ipython3",
   "version": "3.8.3"
  }
 },
 "nbformat": 4,
 "nbformat_minor": 4
}
