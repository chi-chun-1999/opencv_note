{
 "cells": [
  {
   "cell_type": "code",
   "execution_count": 1,
   "metadata": {},
   "outputs": [],
   "source": [
    "import numpy as np\n",
    "import cv2 as cv\n",
    "from matplotlib import pyplot as plt\n",
    "\n",
    "import pywt"
   ]
  },
  {
   "cell_type": "markdown",
   "metadata": {},
   "source": [
    "# 簡單幾何圖形範例\n",
    "----\n",
    "## __1.__ 載入`./img/geometry.png`的圖片"
   ]
  },
  {
   "cell_type": "code",
   "execution_count": 2,
   "metadata": {},
   "outputs": [],
   "source": [
    "ori_img=cv.imread('./img/geometry.png')\n",
    "#ori_img=cv.imread('./img/building_without_noise.jpg')\n",
    "gray_img =cv.cvtColor(ori_img,cv.COLOR_BGR2GRAY)"
   ]
  },
  {
   "attachments": {
    "return_schematic.png": {
     "image/png": "[encoded data removed]"
    }
   },
   "cell_type": "markdown",
   "metadata": {},
   "source": [
    "## __2.__ 接者利用`pywt.dwt2`進行小波轉換\n",
    "\n",
    "回傳的`LL, (LH, HL,HH)`分別對應到以下的圖\n",
    "![return_schematic.png](attachment:return_schematic.png)"
   ]
  },
  {
   "cell_type": "code",
   "execution_count": 3,
   "metadata": {},
   "outputs": [],
   "source": [
    "#(LL,(LH,HL,HH))=pywt.dwt2(src_img,wavelet)\n",
    "#src_img:輸入影像\n",
    "#wavelt:使用的小波模式。這邊使用 haar\n",
    "#(LL,(LH,HL,HH)):回傳結果\n",
    "LL, (LH, HL, HH) = pywt.dwt2(gray_img, 'haar')"
   ]
  },
  {
   "cell_type": "markdown",
   "metadata": {},
   "source": [
    "## __3.__ 最後將結果顯示出來"
   ]
  },
  {
   "cell_type": "code",
   "execution_count": 5,
   "metadata": {},
   "outputs": [],
   "source": [
    "cv.imshow('ori_img',ori_img)\n",
    "cv.imshow('gray_img',gray_img)\n",
    "\n",
    "\n",
    "titles = ['LL', 'LH','HL', 'HH']\n",
    "dst_img=[LL,LH,HL,HH]\n",
    "         \n",
    "for i in range(0,len(dst_img)):\n",
    "    cv.imshow(titles[i],np.uint8(dst_img[i]))\n",
    "\n",
    "cv.waitKey(0)\n",
    "cv.destroyAllWindows()\n"
   ]
  },
  {
   "cell_type": "markdown",
   "metadata": {},
   "source": [
    "# 建築物範例\n",
    "----\n",
    "## __1.__ 載入`./img/building.jpg`的圖片"
   ]
  },
  {
   "cell_type": "code",
   "execution_count": 6,
   "metadata": {},
   "outputs": [],
   "source": [
    "ori_img=cv.imread('./img/building_without_noise.jpg')\n",
    "gray_img =cv.cvtColor(ori_img,cv.COLOR_BGR2GRAY)"
   ]
  },
  {
   "cell_type": "markdown",
   "metadata": {},
   "source": [
    "## __2.__ 接者利用`pywt.dwt2`進行小波轉換\n"
   ]
  },
  {
   "cell_type": "code",
   "execution_count": 7,
   "metadata": {},
   "outputs": [],
   "source": [
    "LL, (LH, HL, HH) = pywt.dwt2(gray_img, 'haar')"
   ]
  },
  {
   "cell_type": "markdown",
   "metadata": {},
   "source": [
    "## __3.__ 最後將結果顯示出來"
   ]
  },
  {
   "cell_type": "code",
   "execution_count": 11,
   "metadata": {},
   "outputs": [],
   "source": [
    "cv.imshow('ori_img',ori_img)\n",
    "cv.imshow('gray_img',gray_img)\n",
    "\n",
    "\n",
    "titles = ['LL', 'LH','HL', 'HH']\n",
    "dst_img=[LL,LH,HL,HH]\n",
    "         \n",
    "for i in range(0,len(dst_img)):\n",
    "    cv.imshow(titles[i],np.uint8(dst_img[i]))\n",
    "\n",
    "cv.waitKey(0)\n",
    "cv.destroyAllWindows()"
   ]
  },
  {
   "cell_type": "code",
   "execution_count": null,
   "metadata": {},
   "outputs": [],
   "source": []
  }
 ],
 "metadata": {
  "kernelspec": {
   "display_name": "Python 3",
   "language": "python",
   "name": "python3"
  },
  "language_info": {
   "codemirror_mode": {
    "name": "ipython",
    "version": 3
   },
   "file_extension": ".py",
   "mimetype": "text/x-python",
   "name": "python",
   "nbconvert_exporter": "python",
   "pygments_lexer": "ipython3",
   "version": "3.8.10"
  }
 },
 "nbformat": 4,
 "nbformat_minor": 4
}
