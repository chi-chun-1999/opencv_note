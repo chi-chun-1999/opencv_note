{
 "cells": [
  {
   "cell_type": "markdown",
   "metadata": {},
   "source": [
    "# OpenCV-閉合(Closing)"
   ]
  },
  {
   "cell_type": "code",
   "execution_count": 11,
   "metadata": {},
   "outputs": [],
   "source": [
    "import cv2 as cv\n",
    "import numpy as np"
   ]
  },
  {
   "cell_type": "code",
   "execution_count": 45,
   "metadata": {},
   "outputs": [],
   "source": [
    "#讀取範例圖片（這邊的範例圖片請選擇opening_sample.png）\n",
    "img_closing = cv.imread('./img/j_with_white_noise.png')\n",
    "img_closing = cv.imread('./img/open.png')\n",
    "#img_closing = cv.imread('./img/geometry.png')\n",
    "#img_closing = cv.imread('./img/j_with_black_noise.png')"
   ]
  },
  {
   "cell_type": "code",
   "execution_count": 52,
   "metadata": {},
   "outputs": [
    {
     "name": "stdout",
     "output_type": "stream",
     "text": [
      "kernel\n",
      "[[0 0 1 0 0]\n",
      " [0 0 1 0 0]\n",
      " [1 1 1 1 1]\n",
      " [0 0 1 0 0]\n",
      " [0 0 1 0 0]]\n"
     ]
    }
   ],
   "source": [
    "kernel = np.ones((3,3),np.float32)\n",
    "\n",
    "print(\"kernel\")\n",
    "print(kernel)\n",
    "\n",
    "#使用opencv內建opening函式做影像處理\n",
    "#closing_j = cv.morphologyEx(img_closing, cv.MORPH_CLOSE, kernel,iterations=10)\n",
    "closing_j = cv.morphologyEx(img_closing, cv.MORPH_OPEN, kernel,iterations=5)\n",
    "#dst_img=cv.morphologyEx(src_img,cv.MORPH_OPEN,kernel)\n",
    "#dst_img:輸出影像\n",
    "#src_img:輸入影像\n",
    "#cv.MORPH_CLOSE 使用本函式做斷開處理\n",
    "#kernel:使用的核\n",
    "\n",
    "\n",
    "\n",
    "\n",
    "#顯示影像處理結果\n",
    "cv.imshow('ori_j',img_closing)\n",
    "cv.imshow('closing_j',closing_j)\n",
    "\n",
    "cv.waitKey(0)\n",
    "cv.destroyAllWindows()"
   ]
  },
  {
   "cell_type": "code",
   "execution_count": null,
   "metadata": {},
   "outputs": [],
   "source": []
  }
 ],
 "metadata": {
  "kernelspec": {
   "display_name": "Python 3",
   "language": "python",
   "name": "python3"
  },
  "language_info": {
   "codemirror_mode": {
    "name": "ipython",
    "version": 3
   },
   "file_extension": ".py",
   "mimetype": "text/x-python",
   "name": "python",
   "nbconvert_exporter": "python",
   "pygments_lexer": "ipython3",
   "version": "3.9.5"
  }
 },
 "nbformat": 4,
 "nbformat_minor": 4
}
