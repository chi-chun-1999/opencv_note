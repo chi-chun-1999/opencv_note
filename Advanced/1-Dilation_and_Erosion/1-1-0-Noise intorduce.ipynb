{
 "cells": [
  {
   "cell_type": "markdown",
   "metadata": {},
   "source": [
    "# 雜訊"
   ]
  },
  {
   "cell_type": "markdown",
   "metadata": {},
   "source": [
    "<table>\n",
    "    <tr>\n",
    "        <td><img src=\"img\\j.png\"></td>\n",
    "        <td><img src=\"img\\j_with_white_noise.png\"></td>\n",
    "        <td><img src=\"img\\j_with_black_noise.png\"></td>\n",
    "    </tr>\n",
    "    <tr>\n",
    "        <td style=\"text-align:center\">Oring</td>\n",
    "        <td style=\"text-align:center\">j_with_Salt_noise</td>\n",
    "        <td style=\"text-align:center\">j_with_pepper_noise</td>\n",
    "    </tr>\n",
    "</table>"
   ]
  },
  {
   "cell_type": "markdown",
   "metadata": {},
   "source": [
    "<table>\n",
    "    <tr>\n",
    "        <td><img src=\"img\\key.jpg\"></td>\n",
    "        <td><img src=\"img\\key_with_Salt_noise.png\"></td>\n",
    "    </tr>\n",
    "    <tr>\n",
    "        <td style=\"text-align:center\">Oring</td>\n",
    "        <td style=\"text-align:center\">key_with_Salt_noise</td>\n",
    "    </tr>\n",
    "</table>"
   ]
  },
  {
   "cell_type": "markdown",
   "metadata": {},
   "source": [
    "# 胡椒鹽雜訊"
   ]
  },
  {
   "cell_type": "markdown",
   "metadata": {},
   "source": [
    "<table>\n",
    "    <tr>\n",
    "        <td><img src=\"img\\lenna.png\"></td>\n",
    "        <td><img src=\"img\\lenna_with_Salt-and-pepper_noise.png\"></td>\n",
    "    </tr>\n",
    "    <tr>\n",
    "        <td style=\"text-align:center\">Oring</td>\n",
    "        <td style=\"text-align:center\">lenna_with_Salt-and-pepper_noise</td>\n",
    "    </tr>\n",
    "</table>"
   ]
  },
  {
   "cell_type": "markdown",
   "metadata": {},
   "source": [
    "# 濾波器"
   ]
  },
  {
   "cell_type": "markdown",
   "metadata": {},
   "source": [
    "<table>\n",
    "    <tr>\n",
    "        <td colspan=\"2\" style=\"text-align:center\">形態學</td>\n",
    "        <td style=\"text-align:center\">數值計算</td>\n",
    "    </tr>\n",
    "    <tr>\n",
    "        <td style=\"text-align:center\">侵蝕(Erosion)</td>\n",
    "        <td style=\"text-align:center\">膨脹(Dilation)</td>\n",
    "        <td style=\"text-align:center\" rowspan=\"2\">中值濾波器<br>雙邊濾波器<br>...etc</td>\n",
    "    </tr>\n",
    "    <tr>\n",
    "        <td style=\"text-align:center\">開放式(Opening)</td>\n",
    "        <td style=\"text-align:center\">閉合式(Closing)</td>\n",
    "    </tr>\n",
    "</table>"
   ]
  },
  {
   "cell_type": "markdown",
   "metadata": {},
   "source": [
    "## OpenCV 各式濾波器\n",
    "\n",
    "https://docs.opencv.org/master/d4/d86/group__imgproc__filter.html"
   ]
  },
  {
   "cell_type": "code",
   "execution_count": null,
   "metadata": {},
   "outputs": [],
   "source": []
  }
 ],
 "metadata": {
  "kernelspec": {
   "display_name": "Python 3",
   "language": "python",
   "name": "python3"
  },
  "language_info": {
   "codemirror_mode": {
    "name": "ipython",
    "version": 3
   },
   "file_extension": ".py",
   "mimetype": "text/x-python",
   "name": "python",
   "nbconvert_exporter": "python",
   "pygments_lexer": "ipython3",
   "version": "3.8.3"
  }
 },
 "nbformat": 4,
 "nbformat_minor": 4
}
