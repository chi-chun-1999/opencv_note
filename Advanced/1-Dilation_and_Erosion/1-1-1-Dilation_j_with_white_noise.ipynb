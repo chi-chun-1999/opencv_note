{
 "cells": [
  {
   "cell_type": "markdown",
   "metadata": {},
   "source": [
    "# OpenCV-膨脹 (Dilation)"
   ]
  },
  {
   "cell_type": "markdown",
   "metadata": {},
   "source": [
    "## J範例\n",
    "\n",
    "<table>\n",
    "    <tr>\n",
    "        <td><img src=\"./img/J_with_white_noise.png\"></td>\n",
    "        <td> <img src=\"./img/J_with_black_noise.png\"></td>\n",
    "    </tr>\n",
    "</table>"
   ]
  },
  {
   "cell_type": "code",
   "execution_count": 10,
   "metadata": {},
   "outputs": [],
   "source": [
    "#載入模組\n",
    "import cv2 as cv\n",
    "import numpy as np"
   ]
  },
  {
   "cell_type": "code",
   "execution_count": 11,
   "metadata": {},
   "outputs": [],
   "source": [
    "img_j = cv.imread('./img/j.png')#讀取影像\n",
    "img_j = cv.imread('./img/geometry.png')#讀取影像\n",
    "#img_j = cv.imread('./img/j_with_white_noise.png')#讀取影像\n",
    "#img_j = cv.imread('./img/j_with_black_noise.png')#讀取影像"
   ]
  },
  {
   "cell_type": "code",
   "execution_count": 15,
   "metadata": {},
   "outputs": [
    {
     "name": "stdout",
     "output_type": "stream",
     "text": [
      "kernel\n",
      "[[0.04 0.04 0.04 0.04 0.04]\n",
      " [0.04 0.04 0.04 0.04 0.04]\n",
      " [0.04 0.04 0.04 0.04 0.04]\n",
      " [0.04 0.04 0.04 0.04 0.04]\n",
      " [0.04 0.04 0.04 0.04 0.04]]\n"
     ]
    }
   ],
   "source": [
    "#要是用任何影像過濾都需要先設定我們要的kernel參數，這邊選用的是5*5的kernel，也可以調整為3*3或是7*7做比較\n",
    "kernel = np.ones((5,5),np.float32)/25\n",
    "print(\"kernel\")\n",
    "print(kernel)\n",
    "\n",
    "\n",
    "#使用opencv內建膨脹函式做影像處理\n",
    "dilation_j = cv.dilate(img_j,kernel,iterations = 1)\n",
    "#dilation_3j = cv.dilate(img_j,kernel,iterations = 1)\n",
    "dilation_3j = cv.erode(dilation_j,kernel,iterations = 1)\n",
    "\n",
    "#dst_img=cv.dilate(src_img,kernel,iteration)\n",
    "#dst_img:輸出影像\n",
    "#src_img:輸入影像\n",
    "#kernel:使用的核\n",
    "#iterations:跌代次數\n",
    "\n",
    "\n",
    "#顯示影像處理結果\n",
    "cv.imshow('Ori_j',img_j)\n",
    "cv.imshow('Dilation_j',dilation_j)\n",
    "cv.imshow('Dilation_3j',dilation_3j)\n",
    "\n",
    "\n",
    "cv.waitKey(0)\n",
    "cv.destroyAllWindows()"
   ]
  },
  {
   "cell_type": "markdown",
   "metadata": {},
   "source": [
    "## 嘗試更換另一張圖"
   ]
  },
  {
   "cell_type": "code",
   "execution_count": 5,
   "metadata": {},
   "outputs": [],
   "source": []
  },
  {
   "cell_type": "code",
   "execution_count": null,
   "metadata": {},
   "outputs": [],
   "source": []
  }
 ],
 "metadata": {
  "kernelspec": {
   "display_name": "Python 3",
   "language": "python",
   "name": "python3"
  },
  "language_info": {
   "codemirror_mode": {
    "name": "ipython",
    "version": 3
   },
   "file_extension": ".py",
   "mimetype": "text/x-python",
   "name": "python",
   "nbconvert_exporter": "python",
   "pygments_lexer": "ipython3",
   "version": "3.9.5"
  }
 },
 "nbformat": 4,
 "nbformat_minor": 4
}
