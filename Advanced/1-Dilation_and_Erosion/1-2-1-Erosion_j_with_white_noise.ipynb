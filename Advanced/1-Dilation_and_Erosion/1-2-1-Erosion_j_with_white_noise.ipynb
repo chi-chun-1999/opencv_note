{
 "cells": [
  {
   "cell_type": "markdown",
   "metadata": {},
   "source": [
    "# OpenCV-侵蝕 (Erosion)"
   ]
  },
  {
   "cell_type": "markdown",
   "metadata": {},
   "source": [
    "## j範例\n",
    "\n",
    "<table>\n",
    "    <tr>\n",
    "        <td><img src=\"./img/J_with_white_noise.png\"></td>\n",
    "        <td> <img src=\"./img/J_with_black_noise.png\"></td>\n",
    "    </tr>\n",
    "</table>"
   ]
  },
  {
   "cell_type": "code",
   "execution_count": 3,
   "metadata": {},
   "outputs": [],
   "source": [
    "import cv2 as cv\n",
    "import numpy as np"
   ]
  },
  {
   "cell_type": "code",
   "execution_count": 8,
   "metadata": {},
   "outputs": [],
   "source": [
    "img_j = cv.imread('./img/J_with_white_noise.png')#讀取影像\n",
    "#img_j = cv.imread('./img/j_with_black_noise.png')#讀取影像"
   ]
  },
  {
   "cell_type": "code",
   "execution_count": 12,
   "metadata": {},
   "outputs": [
    {
     "name": "stdout",
     "output_type": "stream",
     "text": [
      "kernel\n",
      "[[0.04 0.04 0.04 0.04 0.04]\n",
      " [0.04 0.04 0.04 0.04 0.04]\n",
      " [0.04 0.04 0.04 0.04 0.04]\n",
      " [0.04 0.04 0.04 0.04 0.04]\n",
      " [0.04 0.04 0.04 0.04 0.04]]\n"
     ]
    }
   ],
   "source": [
    "kernel = np.ones((5,5),np.float32)/25\n",
    "print(\"kernel\")\n",
    "print(kernel)\n",
    "\n",
    "erosion_j = cv.erode(img_j,kernel,iterations = 1)\n",
    "erosion_2j = cv.erode(img_j,kernel,iterations = 2)\n",
    "#dst_img=cv.erode(src_img,kernel,iterations)\n",
    "#dst_img:輸出影像\n",
    "#src_img:輸入影像\n",
    "#kernel:使用的核\n",
    "#iterations:跌代次數\n",
    "\n",
    "#顯示影像處理結果\n",
    "cv.imshow('Ori_j',img_j)\n",
    "cv.imshow('Erosion_j',erosion_j)\n",
    "cv.imshow('Erosion_2j',erosion_2j)\n",
    "\n",
    "\n",
    "cv.waitKey(0)\n",
    "cv.destroyAllWindows()"
   ]
  },
  {
   "cell_type": "markdown",
   "metadata": {},
   "source": [
    "## 嘗試更換另一張圖"
   ]
  },
  {
   "cell_type": "code",
   "execution_count": 7,
   "metadata": {},
   "outputs": [],
   "source": []
  },
  {
   "cell_type": "code",
   "execution_count": null,
   "metadata": {},
   "outputs": [],
   "source": []
  }
 ],
 "metadata": {
  "kernelspec": {
   "display_name": "Python 3",
   "language": "python",
   "name": "python3"
  },
  "language_info": {
   "codemirror_mode": {
    "name": "ipython",
    "version": 3
   },
   "file_extension": ".py",
   "mimetype": "text/x-python",
   "name": "python",
   "nbconvert_exporter": "python",
   "pygments_lexer": "ipython3",
   "version": "3.8.3"
  }
 },
 "nbformat": 4,
 "nbformat_minor": 4
}
