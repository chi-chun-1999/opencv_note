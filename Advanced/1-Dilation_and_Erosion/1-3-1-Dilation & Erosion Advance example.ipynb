{
 "cells": [
  {
   "cell_type": "markdown",
   "metadata": {},
   "source": [
    "# 膨脹侵蝕進階範例 Advance example"
   ]
  },
  {
   "cell_type": "markdown",
   "metadata": {},
   "source": [
    "## 交通號誌範例"
   ]
  },
  {
   "cell_type": "code",
   "execution_count": 9,
   "metadata": {},
   "outputs": [],
   "source": [
    "import cv2 as cv\n",
    "import numpy as np"
   ]
  },
  {
   "cell_type": "code",
   "execution_count": 10,
   "metadata": {},
   "outputs": [],
   "source": [
    "#移動視窗函式(排版用)\n",
    "def signMoveWindow():\n",
    "    #移動視窗(排版用)\n",
    "    window_location=[0,0]\n",
    "    cv.moveWindow(\"Ori_Sign\", window_location[0], window_location[1])\n",
    "    window_location[0]+=img_sign.shape[1]\n",
    "    cv.moveWindow(\"Gray_Sign\", window_location[0], window_location[1])\n",
    "    window_location[0]+=img_sign.shape[1]\n",
    "    cv.moveWindow(\"Binary_Sign\", window_location[0], window_location[1])\n",
    "    window_location[1]+=img_sign.shape[0]+35\n",
    "    window_location[0]=0\n",
    "    cv.moveWindow(\"Dilation_Sign\", window_location[0], window_location[1])\n",
    "    window_location[0]+=img_sign.shape[1]\n",
    "    cv.moveWindow(\"Dilation_Sign_2\", window_location[0], window_location[1])\n",
    "    window_location[1]+=img_sign.shape[0]+35\n",
    "    window_location[0]=0\n",
    "    cv.moveWindow(\"Erosion_Sign\", window_location[0], window_location[1])\n",
    "    window_location[0]+=img_sign.shape[1]\n",
    "    cv.moveWindow(\"Erosion_Sign_3\", window_location[0], window_location[1])\n",
    "    window_location[1]+=img_sign.shape[0]+20\n",
    "    window_location[0]=0\n",
    "\n",
    "    \n",
    "def lennaMoveWindow():\n",
    "    #移動視窗(排版用)\n",
    "    window_location=[0,0]\n",
    "    cv.moveWindow(\"Ori_Lena\", window_location[0], window_location[1])\n",
    "    window_location[0]+=img_lena.shape[1]\n",
    "    cv.moveWindow(\"Dilation_Lena\", window_location[0], window_location[1])\n",
    "    window_location[0]+=img_lena.shape[1]\n",
    "    cv.moveWindow(\"Dilation_Lena_3\", window_location[0], window_location[1])\n",
    "    window_location[1]+=img_lena.shape[0]+35\n",
    "    window_location[0]=0\n",
    "    cv.moveWindow(\"Erosion_Lena\", window_location[0], window_location[1])\n",
    "    window_location[0]+=img_lena.shape[1]\n",
    "    cv.moveWindow(\"Erosion_Lena_5\", window_location[0], window_location[1])"
   ]
  },
  {
   "cell_type": "code",
   "execution_count": 11,
   "metadata": {},
   "outputs": [
    {
     "name": "stdout",
     "output_type": "stream",
     "text": [
      "[[0.04 0.04 0.04 0.04 0.04]\n",
      " [0.04 0.04 0.04 0.04 0.04]\n",
      " [0.04 0.04 0.04 0.04 0.04]\n",
      " [0.04 0.04 0.04 0.04 0.04]\n",
      " [0.04 0.04 0.04 0.04 0.04]]\n"
     ]
    }
   ],
   "source": [
    "kernel = np.ones((5,5),np.float32)/25\n",
    "print(kernel)"
   ]
  },
  {
   "cell_type": "code",
   "execution_count": 21,
   "metadata": {},
   "outputs": [],
   "source": [
    "#===========================膨脹===============================#\n",
    "\n",
    "#讀取圖檔\n",
    "img_sign = cv.imread('./img/Traffic_sign0.jpg')\n",
    "gray_sign = cv.cvtColor(img_sign, cv.COLOR_BGR2GRAY)\n",
    "ret, binary_sign = cv.threshold(gray_sign,127,255,cv.THRESH_BINARY_INV)\n",
    "\n",
    "#iterations為膨脹的次數，下面將圖片分別膨脹一次和兩次，我們可以觀察其中的差別\n",
    "dilation_sign = cv.dilate(binary_sign,kernel,iterations = 1)\n",
    "dilation_sign2 = cv.dilate(binary_sign,kernel,iterations = 2)\n",
    "\n",
    "#顯示影像處理前後結果\n",
    "cv.imshow('Ori_Sign', img_sign)\n",
    "cv.imshow('Gray_Sign', gray_sign)\n",
    "cv.imshow('Binary_Sign', binary_sign)\n",
    "\n",
    "cv.imshow('Dilation_Sign', dilation_sign)\n",
    "cv.imshow('Dilation_Sign_2', dilation_sign2)\n",
    "\n",
    "#===========================侵蝕===============================#\n",
    "\n",
    "#iterations為侵蝕的次數，下面將圖片分別侵蝕一次和三次，我們可以觀察其中的差別\n",
    "erosion_sign = cv.erode(binary_sign,kernel,iterations = 1)\n",
    "erosion_sign3 = cv.erode(binary_sign,kernel,iterations = 3)\n",
    "\n",
    "#顯示影像處理前後結果\n",
    "cv.imshow('Erosion_Sign',erosion_sign)\n",
    "cv.imshow('Erosion_Sign_3',erosion_sign3)\n",
    "\n",
    "signMoveWindow()\n",
    "\n",
    "\n",
    "cv.waitKey(0)\n",
    "cv.destroyAllWindows()"
   ]
  },
  {
   "cell_type": "markdown",
   "metadata": {},
   "source": [
    "## lenna 範例"
   ]
  },
  {
   "cell_type": "code",
   "execution_count": 22,
   "metadata": {},
   "outputs": [],
   "source": [
    "#===========================膨脹===============================#\n",
    "#讀取圖檔\n",
    "img_lena = cv.imread('./img/lenna.png')\n",
    "\n",
    "#iterations為膨脹的次數，下面將Lena分別膨脹一次和三次，我們可以觀察其中的差別\n",
    "dilation_lena = cv.dilate(img_lena,kernel,iterations = 1)\n",
    "dilation_lena3 = cv.dilate(img_lena,kernel,iterations = 3)\n",
    "\n",
    "cv.imshow('Ori_Lena',img_lena)\n",
    "cv.imshow('Dilation_Lena',dilation_lena)\n",
    "cv.imshow('Dilation_Lena_3',dilation_lena3)\n",
    "\n",
    "#===========================侵蝕===============================#\n",
    "\n",
    "#iterations為侵蝕的次數，下面將Lena分別侵蝕一次和五次，我們可以觀察其中的差別\n",
    "erosion_lena = cv.erode(img_lena,kernel,iterations = 1)\n",
    "erosion_lena5 = cv.erode(img_lena,kernel,iterations = 5)\n",
    "\n",
    "cv.imshow('Erosion_Lena',erosion_lena)\n",
    "cv.imshow('Erosion_Lena_5',erosion_lena5)\n",
    "\n",
    "\n",
    "\n",
    "lennaMoveWindow()\n",
    "\n",
    "\n",
    "cv.waitKey(0)\n",
    "cv.destroyAllWindows()"
   ]
  },
  {
   "cell_type": "code",
   "execution_count": null,
   "metadata": {},
   "outputs": [],
   "source": []
  }
 ],
 "metadata": {
  "kernelspec": {
   "display_name": "Python 3",
   "language": "python",
   "name": "python3"
  },
  "language_info": {
   "codemirror_mode": {
    "name": "ipython",
    "version": 3
   },
   "file_extension": ".py",
   "mimetype": "text/x-python",
   "name": "python",
   "nbconvert_exporter": "python",
   "pygments_lexer": "ipython3",
   "version": "3.7.6"
  }
 },
 "nbformat": 4,
 "nbformat_minor": 4
}
