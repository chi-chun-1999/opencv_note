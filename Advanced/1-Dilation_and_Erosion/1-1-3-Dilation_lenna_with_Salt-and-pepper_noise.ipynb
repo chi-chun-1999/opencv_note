{
 "cells": [
  {
   "cell_type": "markdown",
   "metadata": {},
   "source": [
    "# OpenCV-膨脹 (Dilation)"
   ]
  },
  {
   "cell_type": "markdown",
   "metadata": {},
   "source": [
    "## lenna 範例"
   ]
  },
  {
   "cell_type": "code",
   "execution_count": 7,
   "metadata": {},
   "outputs": [],
   "source": [
    "#載入模組\n",
    "import cv2 as cv\n",
    "import numpy as np"
   ]
  },
  {
   "cell_type": "code",
   "execution_count": 8,
   "metadata": {},
   "outputs": [],
   "source": [
    "img_lenna = cv.imread('./img/lenna.png')\n",
    "#img_lenna = cv.imread('./img/lenna_with_Salt-and-pepper_noise.png')#讀取影像"
   ]
  },
  {
   "cell_type": "code",
   "execution_count": 9,
   "metadata": {},
   "outputs": [
    {
     "name": "stdout",
     "output_type": "stream",
     "text": [
      "[[0.04 0.04 0.04]\n",
      " [0.04 0.04 0.04]\n",
      " [0.04 0.04 0.04]]\n"
     ]
    }
   ],
   "source": [
    "kernel = np.ones((3,3),np.float32)/25\n",
    "print(kernel)\n",
    "\n",
    "\n",
    "dilation_lenna = cv.dilate(img_lenna,kernel,iterations = 1)\n",
    "dilation_3lenna = cv.dilate(img_lenna,kernel,iterations = 3)\n",
    "\n",
    "\n",
    "cv.imshow('Ori_lenna',img_lenna)\n",
    "cv.imshow('Dilation_lenna',dilation_lenna)\n",
    "cv.imshow('Dilation_3lenna',dilation_3lenna)\n",
    "\n",
    "\n",
    "cv.waitKey(0)\n",
    "cv.destroyAllWindows()"
   ]
  },
  {
   "cell_type": "code",
   "execution_count": null,
   "metadata": {},
   "outputs": [],
   "source": []
  },
  {
   "cell_type": "code",
   "execution_count": null,
   "metadata": {},
   "outputs": [],
   "source": []
  }
 ],
 "metadata": {
  "kernelspec": {
   "display_name": "Python 3",
   "language": "python",
   "name": "python3"
  },
  "language_info": {
   "codemirror_mode": {
    "name": "ipython",
    "version": 3
   },
   "file_extension": ".py",
   "mimetype": "text/x-python",
   "name": "python",
   "nbconvert_exporter": "python",
   "pygments_lexer": "ipython3",
   "version": "3.7.6"
  }
 },
 "nbformat": 4,
 "nbformat_minor": 4
}
