{
 "cells": [
  {
   "cell_type": "markdown",
   "metadata": {},
   "source": [
    "## key 範例"
   ]
  },
  {
   "cell_type": "code",
   "execution_count": 1,
   "metadata": {},
   "outputs": [],
   "source": [
    "import cv2 as cv\n",
    "import numpy as np"
   ]
  },
  {
   "cell_type": "code",
   "execution_count": 4,
   "metadata": {},
   "outputs": [],
   "source": [
    "img_key= cv.imread('./img/key_with_Salt_noise.png')#讀取影像"
   ]
  },
  {
   "cell_type": "code",
   "execution_count": 5,
   "metadata": {},
   "outputs": [
    {
     "name": "stdout",
     "output_type": "stream",
     "text": [
      "[[0.04 0.04 0.04]\n",
      " [0.04 0.04 0.04]\n",
      " [0.04 0.04 0.04]]\n"
     ]
    }
   ],
   "source": [
    "kernel = np.ones((3,3),np.float32)/25\n",
    "print(kernel)\n",
    "\n",
    "erosion_key = cv.erode(img_key , kernel , iterations = 1)\n",
    "erosion_2key = cv.erode(img_key , kernel , iterations = 2)\n",
    "\n",
    "cv.imshow('Ori_key',img_key)\n",
    "cv.imshow('Erosion_key',erosion_key)\n",
    "cv.imshow('Erosion_key',erosion_2key)\n",
    "\n",
    "\n",
    "cv.waitKey(0)\n",
    "cv.destroyAllWindows()\n"
   ]
  },
  {
   "cell_type": "code",
   "execution_count": null,
   "metadata": {},
   "outputs": [],
   "source": []
  }
 ],
 "metadata": {
  "kernelspec": {
   "display_name": "Python 3",
   "language": "python",
   "name": "python3"
  },
  "language_info": {
   "codemirror_mode": {
    "name": "ipython",
    "version": 3
   },
   "file_extension": ".py",
   "mimetype": "text/x-python",
   "name": "python",
   "nbconvert_exporter": "python",
   "pygments_lexer": "ipython3",
   "version": "3.8.10"
  }
 },
 "nbformat": 4,
 "nbformat_minor": 4
}
